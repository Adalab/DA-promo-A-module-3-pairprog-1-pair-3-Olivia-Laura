{
 "cells": [
  {
   "cell_type": "code",
   "execution_count": 1,
   "metadata": {},
   "outputs": [],
   "source": [
    "import numpy as np\n",
    "import pandas as pd\n",
    "import matplotlib.pyplot as plt\n",
    "import seaborn as sns\n",
    "\n",
    "import warnings\n",
    "warnings.filterwarnings( \"ignore\", module = \"seaborn\\..*\" )\n",
    "\n",
    "import sidetable\n",
    "import statsmodels.api as sm\n",
    "import pylab as py\n",
    "from sklearn.model_selection import train_test_split\n",
    "from sklearn.linear_model import LinearRegression\n",
    "from sklearn.preprocessing import MinMaxScaler, OrdinalEncoder, StandardScaler,OneHotEncoder\n",
    "from sklearn.metrics import r2_score, mean_squared_error, mean_absolute_error\n",
    "from sklearn.preprocessing import LabelEncoder "
   ]
  },
  {
   "cell_type": "code",
   "execution_count": 2,
   "metadata": {},
   "outputs": [
    {
     "data": {
      "text/html": [
       "<div>\n",
       "<style scoped>\n",
       "    .dataframe tbody tr th:only-of-type {\n",
       "        vertical-align: middle;\n",
       "    }\n",
       "\n",
       "    .dataframe tbody tr th {\n",
       "        vertical-align: top;\n",
       "    }\n",
       "\n",
       "    .dataframe thead th {\n",
       "        text-align: right;\n",
       "    }\n",
       "</style>\n",
       "<table border=\"1\" class=\"dataframe\">\n",
       "  <thead>\n",
       "    <tr style=\"text-align: right;\">\n",
       "      <th></th>\n",
       "      <th>winery</th>\n",
       "      <th>wine</th>\n",
       "      <th>year</th>\n",
       "      <th>rating</th>\n",
       "      <th>num_reviews</th>\n",
       "      <th>country</th>\n",
       "      <th>region</th>\n",
       "      <th>price</th>\n",
       "      <th>type</th>\n",
       "      <th>body</th>\n",
       "      <th>acidity</th>\n",
       "    </tr>\n",
       "  </thead>\n",
       "  <tbody>\n",
       "    <tr>\n",
       "      <th>0</th>\n",
       "      <td>Teso La Monja</td>\n",
       "      <td>Tinto</td>\n",
       "      <td>2013</td>\n",
       "      <td>4.9</td>\n",
       "      <td>58</td>\n",
       "      <td>Espana</td>\n",
       "      <td>Toro</td>\n",
       "      <td>995.00</td>\n",
       "      <td>Toro Red</td>\n",
       "      <td>5.0</td>\n",
       "      <td>3.0</td>\n",
       "    </tr>\n",
       "    <tr>\n",
       "      <th>1</th>\n",
       "      <td>Artadi</td>\n",
       "      <td>Vina El Pison</td>\n",
       "      <td>2018</td>\n",
       "      <td>4.9</td>\n",
       "      <td>31</td>\n",
       "      <td>Espana</td>\n",
       "      <td>Vino de Espana</td>\n",
       "      <td>313.50</td>\n",
       "      <td>Tempranillo</td>\n",
       "      <td>4.0</td>\n",
       "      <td>2.0</td>\n",
       "    </tr>\n",
       "    <tr>\n",
       "      <th>2</th>\n",
       "      <td>Vega Sicilia</td>\n",
       "      <td>Unico</td>\n",
       "      <td>2009</td>\n",
       "      <td>4.8</td>\n",
       "      <td>1793</td>\n",
       "      <td>Espana</td>\n",
       "      <td>Ribera del Duero</td>\n",
       "      <td>324.95</td>\n",
       "      <td>Ribera Del Duero Red</td>\n",
       "      <td>5.0</td>\n",
       "      <td>3.0</td>\n",
       "    </tr>\n",
       "    <tr>\n",
       "      <th>3</th>\n",
       "      <td>Vega Sicilia</td>\n",
       "      <td>Unico</td>\n",
       "      <td>1999</td>\n",
       "      <td>4.8</td>\n",
       "      <td>1705</td>\n",
       "      <td>Espana</td>\n",
       "      <td>Ribera del Duero</td>\n",
       "      <td>692.96</td>\n",
       "      <td>Ribera Del Duero Red</td>\n",
       "      <td>5.0</td>\n",
       "      <td>3.0</td>\n",
       "    </tr>\n",
       "    <tr>\n",
       "      <th>4</th>\n",
       "      <td>Vega Sicilia</td>\n",
       "      <td>Unico</td>\n",
       "      <td>1996</td>\n",
       "      <td>4.8</td>\n",
       "      <td>1309</td>\n",
       "      <td>Espana</td>\n",
       "      <td>Ribera del Duero</td>\n",
       "      <td>778.06</td>\n",
       "      <td>Ribera Del Duero Red</td>\n",
       "      <td>5.0</td>\n",
       "      <td>3.0</td>\n",
       "    </tr>\n",
       "    <tr>\n",
       "      <th>5</th>\n",
       "      <td>Vega Sicilia</td>\n",
       "      <td>Unico</td>\n",
       "      <td>1998</td>\n",
       "      <td>4.8</td>\n",
       "      <td>1209</td>\n",
       "      <td>Espana</td>\n",
       "      <td>Ribera del Duero</td>\n",
       "      <td>490.00</td>\n",
       "      <td>Ribera Del Duero Red</td>\n",
       "      <td>5.0</td>\n",
       "      <td>3.0</td>\n",
       "    </tr>\n",
       "    <tr>\n",
       "      <th>6</th>\n",
       "      <td>Vega Sicilia</td>\n",
       "      <td>Unico</td>\n",
       "      <td>2010</td>\n",
       "      <td>4.8</td>\n",
       "      <td>1201</td>\n",
       "      <td>Espana</td>\n",
       "      <td>Ribera del Duero</td>\n",
       "      <td>349.00</td>\n",
       "      <td>Ribera Del Duero Red</td>\n",
       "      <td>5.0</td>\n",
       "      <td>3.0</td>\n",
       "    </tr>\n",
       "    <tr>\n",
       "      <th>7</th>\n",
       "      <td>Vega Sicilia</td>\n",
       "      <td>Unico</td>\n",
       "      <td>1995</td>\n",
       "      <td>4.8</td>\n",
       "      <td>926</td>\n",
       "      <td>Espana</td>\n",
       "      <td>Ribera del Duero</td>\n",
       "      <td>810.89</td>\n",
       "      <td>Ribera Del Duero Red</td>\n",
       "      <td>5.0</td>\n",
       "      <td>3.0</td>\n",
       "    </tr>\n",
       "    <tr>\n",
       "      <th>8</th>\n",
       "      <td>Vega Sicilia</td>\n",
       "      <td>Unico Reserva Especial Edicion</td>\n",
       "      <td>2015</td>\n",
       "      <td>4.8</td>\n",
       "      <td>643</td>\n",
       "      <td>Espana</td>\n",
       "      <td>Ribera del Duero</td>\n",
       "      <td>345.00</td>\n",
       "      <td>Ribera Del Duero Red</td>\n",
       "      <td>5.0</td>\n",
       "      <td>3.0</td>\n",
       "    </tr>\n",
       "    <tr>\n",
       "      <th>9</th>\n",
       "      <td>Vega Sicilia</td>\n",
       "      <td>Unico</td>\n",
       "      <td>2011</td>\n",
       "      <td>4.8</td>\n",
       "      <td>630</td>\n",
       "      <td>Espana</td>\n",
       "      <td>Ribera del Duero</td>\n",
       "      <td>315.00</td>\n",
       "      <td>Ribera Del Duero Red</td>\n",
       "      <td>5.0</td>\n",
       "      <td>3.0</td>\n",
       "    </tr>\n",
       "  </tbody>\n",
       "</table>\n",
       "</div>"
      ],
      "text/plain": [
       "          winery                            wine  year  rating  num_reviews  \\\n",
       "0  Teso La Monja                           Tinto  2013     4.9           58   \n",
       "1         Artadi                   Vina El Pison  2018     4.9           31   \n",
       "2   Vega Sicilia                           Unico  2009     4.8         1793   \n",
       "3   Vega Sicilia                           Unico  1999     4.8         1705   \n",
       "4   Vega Sicilia                           Unico  1996     4.8         1309   \n",
       "5   Vega Sicilia                           Unico  1998     4.8         1209   \n",
       "6   Vega Sicilia                           Unico  2010     4.8         1201   \n",
       "7   Vega Sicilia                           Unico  1995     4.8          926   \n",
       "8   Vega Sicilia  Unico Reserva Especial Edicion  2015     4.8          643   \n",
       "9   Vega Sicilia                           Unico  2011     4.8          630   \n",
       "\n",
       "  country            region   price                  type  body  acidity  \n",
       "0  Espana              Toro  995.00              Toro Red   5.0      3.0  \n",
       "1  Espana    Vino de Espana  313.50           Tempranillo   4.0      2.0  \n",
       "2  Espana  Ribera del Duero  324.95  Ribera Del Duero Red   5.0      3.0  \n",
       "3  Espana  Ribera del Duero  692.96  Ribera Del Duero Red   5.0      3.0  \n",
       "4  Espana  Ribera del Duero  778.06  Ribera Del Duero Red   5.0      3.0  \n",
       "5  Espana  Ribera del Duero  490.00  Ribera Del Duero Red   5.0      3.0  \n",
       "6  Espana  Ribera del Duero  349.00  Ribera Del Duero Red   5.0      3.0  \n",
       "7  Espana  Ribera del Duero  810.89  Ribera Del Duero Red   5.0      3.0  \n",
       "8  Espana  Ribera del Duero  345.00  Ribera Del Duero Red   5.0      3.0  \n",
       "9  Espana  Ribera del Duero  315.00  Ribera Del Duero Red   5.0      3.0  "
      ]
     },
     "execution_count": 2,
     "metadata": {},
     "output_type": "execute_result"
    }
   ],
   "source": [
    "vinos = pd.read_csv('vinos.csv', index_col= 0).reset_index()\n",
    "vinos.head(10)"
   ]
  },
  {
   "cell_type": "markdown",
   "metadata": {},
   "source": [
    "#### 1. Toma únicamente las variables de tipo numérico del dataset."
   ]
  },
  {
   "cell_type": "code",
   "execution_count": 3,
   "metadata": {},
   "outputs": [
    {
     "data": {
      "text/html": [
       "<div>\n",
       "<style scoped>\n",
       "    .dataframe tbody tr th:only-of-type {\n",
       "        vertical-align: middle;\n",
       "    }\n",
       "\n",
       "    .dataframe tbody tr th {\n",
       "        vertical-align: top;\n",
       "    }\n",
       "\n",
       "    .dataframe thead th {\n",
       "        text-align: right;\n",
       "    }\n",
       "</style>\n",
       "<table border=\"1\" class=\"dataframe\">\n",
       "  <thead>\n",
       "    <tr style=\"text-align: right;\">\n",
       "      <th></th>\n",
       "      <th>rating</th>\n",
       "      <th>num_reviews</th>\n",
       "      <th>price</th>\n",
       "      <th>body</th>\n",
       "      <th>acidity</th>\n",
       "    </tr>\n",
       "  </thead>\n",
       "  <tbody>\n",
       "    <tr>\n",
       "      <th>0</th>\n",
       "      <td>4.9</td>\n",
       "      <td>58</td>\n",
       "      <td>995.0</td>\n",
       "      <td>5.0</td>\n",
       "      <td>3.0</td>\n",
       "    </tr>\n",
       "    <tr>\n",
       "      <th>1</th>\n",
       "      <td>4.9</td>\n",
       "      <td>31</td>\n",
       "      <td>313.5</td>\n",
       "      <td>4.0</td>\n",
       "      <td>2.0</td>\n",
       "    </tr>\n",
       "  </tbody>\n",
       "</table>\n",
       "</div>"
      ],
      "text/plain": [
       "   rating  num_reviews  price  body  acidity\n",
       "0     4.9           58  995.0   5.0      3.0\n",
       "1     4.9           31  313.5   4.0      2.0"
      ]
     },
     "execution_count": 3,
     "metadata": {},
     "output_type": "execute_result"
    }
   ],
   "source": [
    "vinos_numericas = vinos.select_dtypes(exclude = 'object')\n",
    "vinos_numericas.head(2)"
   ]
  },
  {
   "cell_type": "markdown",
   "metadata": {},
   "source": [
    "- Realiza un EDA explicando algunas de las cosas interesantes del conjunto de datos."
   ]
  },
  {
   "cell_type": "code",
   "execution_count": 4,
   "metadata": {},
   "outputs": [
    {
     "data": {
      "text/html": [
       "<div>\n",
       "<style scoped>\n",
       "    .dataframe tbody tr th:only-of-type {\n",
       "        vertical-align: middle;\n",
       "    }\n",
       "\n",
       "    .dataframe tbody tr th {\n",
       "        vertical-align: top;\n",
       "    }\n",
       "\n",
       "    .dataframe thead th {\n",
       "        text-align: right;\n",
       "    }\n",
       "</style>\n",
       "<table border=\"1\" class=\"dataframe\">\n",
       "  <thead>\n",
       "    <tr style=\"text-align: right;\">\n",
       "      <th></th>\n",
       "      <th>rating</th>\n",
       "      <th>num_reviews</th>\n",
       "      <th>price</th>\n",
       "      <th>body</th>\n",
       "      <th>acidity</th>\n",
       "    </tr>\n",
       "  </thead>\n",
       "  <tbody>\n",
       "    <tr>\n",
       "      <th>count</th>\n",
       "      <td>7500.0</td>\n",
       "      <td>7500.0</td>\n",
       "      <td>7500.0</td>\n",
       "      <td>6331.0</td>\n",
       "      <td>6331.0</td>\n",
       "    </tr>\n",
       "    <tr>\n",
       "      <th>mean</th>\n",
       "      <td>4.3</td>\n",
       "      <td>451.1</td>\n",
       "      <td>60.1</td>\n",
       "      <td>4.2</td>\n",
       "      <td>2.9</td>\n",
       "    </tr>\n",
       "    <tr>\n",
       "      <th>std</th>\n",
       "      <td>0.1</td>\n",
       "      <td>723.0</td>\n",
       "      <td>150.4</td>\n",
       "      <td>0.6</td>\n",
       "      <td>0.2</td>\n",
       "    </tr>\n",
       "    <tr>\n",
       "      <th>min</th>\n",
       "      <td>4.2</td>\n",
       "      <td>25.0</td>\n",
       "      <td>5.0</td>\n",
       "      <td>2.0</td>\n",
       "      <td>1.0</td>\n",
       "    </tr>\n",
       "    <tr>\n",
       "      <th>25%</th>\n",
       "      <td>4.2</td>\n",
       "      <td>389.0</td>\n",
       "      <td>18.9</td>\n",
       "      <td>4.0</td>\n",
       "      <td>3.0</td>\n",
       "    </tr>\n",
       "    <tr>\n",
       "      <th>50%</th>\n",
       "      <td>4.2</td>\n",
       "      <td>404.0</td>\n",
       "      <td>28.5</td>\n",
       "      <td>4.0</td>\n",
       "      <td>3.0</td>\n",
       "    </tr>\n",
       "    <tr>\n",
       "      <th>75%</th>\n",
       "      <td>4.2</td>\n",
       "      <td>415.0</td>\n",
       "      <td>51.4</td>\n",
       "      <td>5.0</td>\n",
       "      <td>3.0</td>\n",
       "    </tr>\n",
       "    <tr>\n",
       "      <th>max</th>\n",
       "      <td>4.9</td>\n",
       "      <td>32624.0</td>\n",
       "      <td>3119.1</td>\n",
       "      <td>5.0</td>\n",
       "      <td>3.0</td>\n",
       "    </tr>\n",
       "  </tbody>\n",
       "</table>\n",
       "</div>"
      ],
      "text/plain": [
       "       rating  num_reviews   price    body  acidity\n",
       "count  7500.0       7500.0  7500.0  6331.0   6331.0\n",
       "mean      4.3        451.1    60.1     4.2      2.9\n",
       "std       0.1        723.0   150.4     0.6      0.2\n",
       "min       4.2         25.0     5.0     2.0      1.0\n",
       "25%       4.2        389.0    18.9     4.0      3.0\n",
       "50%       4.2        404.0    28.5     4.0      3.0\n",
       "75%       4.2        415.0    51.4     5.0      3.0\n",
       "max       4.9      32624.0  3119.1     5.0      3.0"
      ]
     },
     "execution_count": 4,
     "metadata": {},
     "output_type": "execute_result"
    }
   ],
   "source": [
    "vinos_numericas.describe().round(1)"
   ]
  },
  {
   "cell_type": "code",
   "execution_count": 5,
   "metadata": {},
   "outputs": [
    {
     "name": "stdout",
     "output_type": "stream",
     "text": [
      "<class 'pandas.core.frame.DataFrame'>\n",
      "RangeIndex: 7500 entries, 0 to 7499\n",
      "Data columns (total 5 columns):\n",
      " #   Column       Non-Null Count  Dtype  \n",
      "---  ------       --------------  -----  \n",
      " 0   rating       7500 non-null   float64\n",
      " 1   num_reviews  7500 non-null   int64  \n",
      " 2   price        7500 non-null   float64\n",
      " 3   body         6331 non-null   float64\n",
      " 4   acidity      6331 non-null   float64\n",
      "dtypes: float64(4), int64(1)\n",
      "memory usage: 293.1 KB\n"
     ]
    }
   ],
   "source": [
    "vinos_numericas.info()"
   ]
  },
  {
   "cell_type": "markdown",
   "metadata": {},
   "source": [
    "<font color ='violet'> Valores faltantes"
   ]
  },
  {
   "cell_type": "code",
   "execution_count": 11,
   "metadata": {},
   "outputs": [
    {
     "data": {
      "text/plain": [
       "rating         0.0\n",
       "num_reviews    0.0\n",
       "price          0.0\n",
       "body           0.0\n",
       "acidity        0.0\n",
       "dtype: float64"
      ]
     },
     "execution_count": 11,
     "metadata": {},
     "output_type": "execute_result"
    }
   ],
   "source": [
    "vinos_numericas_missing = vinos_numericas.isnull().sum() * 100 / len(vinos) \n",
    "vinos_numericas_missing "
   ]
  },
  {
   "cell_type": "markdown",
   "metadata": {},
   "source": [
    "<font color ='violet'> Duplicados"
   ]
  },
  {
   "cell_type": "code",
   "execution_count": 7,
   "metadata": {},
   "outputs": [
    {
     "data": {
      "text/plain": [
       "5452"
      ]
     },
     "execution_count": 7,
     "metadata": {},
     "output_type": "execute_result"
    }
   ],
   "source": [
    "vinos_numericas.duplicated().sum() "
   ]
  },
  {
   "cell_type": "code",
   "execution_count": 8,
   "metadata": {},
   "outputs": [
    {
     "name": "stderr",
     "output_type": "stream",
     "text": [
      "/home/lcp87/anaconda3/lib/python3.9/site-packages/pandas/util/_decorators.py:311: SettingWithCopyWarning: \n",
      "A value is trying to be set on a copy of a slice from a DataFrame\n",
      "\n",
      "See the caveats in the documentation: https://pandas.pydata.org/pandas-docs/stable/user_guide/indexing.html#returning-a-view-versus-a-copy\n",
      "  return func(*args, **kwargs)\n"
     ]
    },
    {
     "data": {
      "text/plain": [
       "0"
      ]
     },
     "execution_count": 8,
     "metadata": {},
     "output_type": "execute_result"
    }
   ],
   "source": [
    "vinos_numericas.drop_duplicates(inplace= True)\n",
    "vinos_numericas.duplicated().sum() \n"
   ]
  },
  {
   "cell_type": "markdown",
   "metadata": {},
   "source": [
    "<font color ='violet'>Decidimos eliminar los valores nulos porque no afectan al resultado final de nuestra correlación y nuestra pregunta."
   ]
  },
  {
   "cell_type": "code",
   "execution_count": 9,
   "metadata": {},
   "outputs": [],
   "source": [
    "vinos_numericas.dropna(inplace = True)"
   ]
  },
  {
   "cell_type": "code",
   "execution_count": 10,
   "metadata": {},
   "outputs": [
    {
     "data": {
      "text/plain": [
       "rating         0\n",
       "num_reviews    0\n",
       "price          0\n",
       "body           0\n",
       "acidity        0\n",
       "dtype: int64"
      ]
     },
     "execution_count": 10,
     "metadata": {},
     "output_type": "execute_result"
    }
   ],
   "source": [
    "vinos_numericas.isna().sum()"
   ]
  },
  {
   "cell_type": "markdown",
   "metadata": {},
   "source": [
    "<font color ='violet'> Outliers"
   ]
  },
  {
   "cell_type": "code",
   "execution_count": 12,
   "metadata": {},
   "outputs": [],
   "source": [
    "def detectar_outliers(lista_columnas, df): \n",
    "    \n",
    "    dicc_indices = {} # creamos un diccionario donde almacenaremos índices de los outliers\n",
    "    \n",
    "    # iteramos por la lista de las columnas numéricas de nuestro dataframe\n",
    "    for col in lista_columnas:\n",
    "        \n",
    "        #calculamos los cuartiles Q1 y Q3\n",
    "        Q1 = np.nanpercentile(df[col], 25)\n",
    "        Q3 = np.nanpercentile(df[col], 75)\n",
    "        \n",
    "        # calculamos rango intercuartil\n",
    "        IQR = Q3 - Q1\n",
    "        \n",
    "        # calculamos los límites\n",
    "        outlier_step = 1.5 * IQR\n",
    "        \n",
    "        # filtramos nuestro df para indentificar los outliers\n",
    "        outliers_data = df[(df[col] < Q1 - outlier_step) | (df[col] > Q3 + outlier_step)]\n",
    "        \n",
    "        \n",
    "        if outliers_data.shape[0] > 0: # chequeamos si nuestro df tiene alguna fila. \n",
    "        \n",
    "            dicc_indices[col] = (list(outliers_data.index)) # si tiene fila es que hay outliers y por lo tanto lo añadimos a nuestro diccionario\n",
    "        \n",
    "    return dicc_indices "
   ]
  },
  {
   "cell_type": "code",
   "execution_count": 13,
   "metadata": {},
   "outputs": [
    {
     "data": {
      "text/plain": [
       "Index(['rating', 'num_reviews', 'price', 'body', 'acidity'], dtype='object')"
      ]
     },
     "execution_count": 13,
     "metadata": {},
     "output_type": "execute_result"
    }
   ],
   "source": [
    "vinos_numericas.columns"
   ]
  },
  {
   "cell_type": "code",
   "execution_count": 14,
   "metadata": {},
   "outputs": [
    {
     "name": "stdout",
     "output_type": "stream",
     "text": [
      "Para la variable rating tenemos 1821 valores outliers,  esto es un 24%\\ de los datos\n",
      "Para la variable num_reviews tenemos 1920 valores outliers,  esto es un 26%\\ de los datos\n",
      "Para la variable price tenemos 538 valores outliers,  esto es un 7%\\ de los datos\n",
      "Para la variable body tenemos 34 valores outliers,  esto es un 0%\\ de los datos\n",
      "Para la variable acidity tenemos 303 valores outliers,  esto es un 4%\\ de los datos\n"
     ]
    }
   ],
   "source": [
    "lista_columnas = list(vinos_numericas.columns)\n",
    "\n",
    "ind = detectar_outliers(lista_columnas, vinos)\n",
    "# vemos que es lo que nos ha devuelto la función\n",
    "for key, values in ind.items():\n",
    "    print('Para la variable ' + key  + ' tenemos ' + str(len(values)) +' valores outliers,  esto es un ' + str(round(len(values)/vinos.shape[0]*100)) + '%\\ de los datos' )"
   ]
  },
  {
   "cell_type": "code",
   "execution_count": 15,
   "metadata": {},
   "outputs": [],
   "source": [
    "def detectar_outliers(lista_columnas, df): \n",
    "    \n",
    "    dicc_indices = {} # creamos un diccionario donde almacenaremos índices de los outliers\n",
    "    \n",
    "    # iteramos por la lista de las columnas numéricas de nuestro dataframe\n",
    "    for col in lista_columnas:\n",
    "        \n",
    "        #calculamos los cuartiles Q1 y Q3\n",
    "        Q1 = np.nanpercentile(df[col], 25)\n",
    "        Q3 = np.nanpercentile(df[col], 75)\n",
    "        \n",
    "        # calculamos rango intercuartil\n",
    "        IQR = Q3 - Q1\n",
    "        \n",
    "        # calculamos los límites\n",
    "        outlier_step = 1.5 * IQR\n",
    "        \n",
    "        # filtramos nuestro df para indentificar los outliers\n",
    "        outliers_data = df[(df[col] < Q1 - outlier_step) | (df[col] > Q3 + outlier_step)]\n",
    "        \n",
    "        \n",
    "        if outliers_data.shape[0] > 0: # chequeamos si nuestro df tiene alguna fila. \n",
    "        \n",
    "            dicc_indices[col] = (list(outliers_data.index)) # si tiene fila es que hay outliers y por lo tanto lo añadimos a nuestro diccionario\n",
    "        \n",
    "    return dicc_indices "
   ]
  },
  {
   "cell_type": "code",
   "execution_count": 16,
   "metadata": {},
   "outputs": [
    {
     "data": {
      "text/plain": [
       "Index(['winery', 'wine', 'year', 'rating', 'num_reviews', 'country', 'region',\n",
       "       'price', 'type', 'body', 'acidity'],\n",
       "      dtype='object')"
      ]
     },
     "execution_count": 16,
     "metadata": {},
     "output_type": "execute_result"
    }
   ],
   "source": [
    "vinos.columns"
   ]
  },
  {
   "cell_type": "code",
   "execution_count": null,
   "metadata": {},
   "outputs": [],
   "source": [
    "lista_columnas = list(vinos.columns)\n",
    "\n",
    "ind = detectar_outliers(lista_columnas, vinos)\n",
    "# vemos que es lo que nos ha devuelto la función\n",
    "for key, values in ind.items():\n",
    "    print('Para la variable ' + key  + ' tenemos ' + str(len(values)) +' valores outliers,  esto es un ' + str(round(len(values)/vinos.shape[0]*100)) + '%\\ de los datos' )"
   ]
  },
  {
   "cell_type": "markdown",
   "metadata": {},
   "source": [
    " - Obtén la matriz de correlacion de las variables y estudia los resultados explicando las diferentes correlaciones con las variables."
   ]
  },
  {
   "cell_type": "code",
   "execution_count": 18,
   "metadata": {},
   "outputs": [
    {
     "name": "stderr",
     "output_type": "stream",
     "text": [
      "/tmp/ipykernel_1243/3395958517.py:1: DeprecationWarning: `np.bool` is a deprecated alias for the builtin `bool`. To silence this warning, use `bool` by itself. Doing this will not modify any behavior and is safe. If you specifically wanted the numpy scalar type, use `np.bool_` here.\n",
      "Deprecated in NumPy 1.20; for more details and guidance: https://numpy.org/devdocs/release/1.20.0-notes.html#deprecations\n",
      "  mask = np.triu(np.ones_like(vinos_numericas.corr(), dtype=np.bool));\n"
     ]
    }
   ],
   "source": [
    "mask = np.triu(np.ones_like(vinos_numericas.corr(), dtype=np.bool));\n"
   ]
  },
  {
   "cell_type": "code",
   "execution_count": 16,
   "metadata": {},
   "outputs": [
    {
     "data": {
      "image/png": "[encoded data removed]",
      "text/plain": [
       "<Figure size 432x288 with 2 Axes>"
      ]
     },
     "metadata": {
      "needs_background": "light"
     },
     "output_type": "display_data"
    }
   ],
   "source": [
    "sns.heatmap(vinos_numericas.corr(), cmap = \"PiYG\", mask = mask, annot = True , vmin=-1, vmax=1 ); #definimos los valores máximos de 1 y -1 para que se vea bien la representación de los valores."
   ]
  },
  {
   "cell_type": "markdown",
   "metadata": {},
   "source": [
    "<font color ='violet'>Podemos ver en el heatmap que `price` y `rating` con las variables con la correlación más fuerte, mientras que el resto están muy cerca del cero, por lo que su correlación es bastante débil."
   ]
  },
  {
   "cell_type": "markdown",
   "metadata": {},
   "source": [
    " - Limpia los datos de trabajo en caso de que sea necesario."
   ]
  },
  {
   "cell_type": "markdown",
   "metadata": {},
   "source": [
    "<font color ='violet'> No creemos que sea necesario limpiar el DataFrame ya que los datos están muy limpios y ordenados. Destacamos el valor N.V. en la columna `year` pero al estar en tipo 'object' no nos afecta."
   ]
  },
  {
   "cell_type": "markdown",
   "metadata": {},
   "source": [
    " - Realiza el ajuste lineal múltiple mostrando las métricas."
   ]
  },
  {
   "cell_type": "code",
   "execution_count": 19,
   "metadata": {},
   "outputs": [
    {
     "name": "stdout",
     "output_type": "stream",
     "text": [
      "Para el conjunto train:---------------\n",
      "El valor de r2 score es  0.2819620645647941\n",
      "El valor de r2 score adjusted es  0.27993370881497714\n",
      "El MAE es 135.47946117895592\n",
      "EL RMSE es  249.626560993348\n",
      "Para el conjunto test:---------------\n",
      "El valor de r2 score es  0.16790602671400678\n",
      "El valor de r2 score adjusted es  0.1584234743118872\n",
      "El MAE es 133.24888122722663\n",
      "EL RMSE es  242.36175557838843\n"
     ]
    }
   ],
   "source": [
    "x = vinos_numericas.drop(columns = ['price'])\n",
    "y = vinos_numericas['price']\n",
    "x_train, x_test, y_train, y_test = train_test_split(x, y, test_size = 0.2, random_state = 42)\n",
    "\n",
    "# Creamos la regresión lineal\n",
    "LR = LinearRegression() # nos aseguramos de que se normalizan los datos\n",
    "# Ajustamos el modelo\n",
    "LR.fit(x_train,y_train)\n",
    "y_prediction_train =  LR.predict(x_train)\n",
    "Adj_r2_train = 1 - (1-r2_score(y_train,y_prediction_train)) * (x_train.shape[0]-1)/(x_train.shape[0]-x_train.shape[1]-1)\n",
    "\n",
    "y_prediction =  LR.predict(x_test)\n",
    "Adj_r2_test = 1 - (1-r2_score(y_test, y_prediction)) * (x_test.shape[0]-1)/(x_test.shape[0]-x_test.shape[1]-1)\n",
    "\n",
    "# Para el conjunto de entrenamiento las métricas han sido\n",
    "print('Para el conjunto train:---------------')\n",
    "print('El valor de r2 score es ',r2_score(y_train,y_prediction_train))\n",
    "print('El valor de r2 score adjusted es ',Adj_r2_train)\n",
    "print('El MAE es',mean_absolute_error(y_train,y_prediction_train))\n",
    "print('EL RMSE es ',np.sqrt(mean_squared_error(y_train,y_prediction_train)))\n",
    "\n",
    "\n",
    "# Para el conjunto de test las métricas han sido\n",
    "print('Para el conjunto test:---------------')\n",
    "print('El valor de r2 score es ',r2_score(y_test,y_prediction))\n",
    "print('El valor de r2 score adjusted es ',Adj_r2_test)\n",
    "print('El MAE es',mean_absolute_error(y_test,y_prediction))\n",
    "print('EL RMSE es ',np.sqrt(mean_squared_error(y_test,y_prediction)))"
   ]
  },
  {
   "cell_type": "code",
   "execution_count": 20,
   "metadata": {},
   "outputs": [
    {
     "data": {
      "image/png": "[encoded data removed]",
      "text/plain": [
       "<Figure size 900x900 with 30 Axes>"
      ]
     },
     "metadata": {
      "needs_background": "light"
     },
     "output_type": "display_data"
    }
   ],
   "source": [
    "sns.pairplot(vinos_numericas);"
   ]
  },
  {
   "cell_type": "code",
   "execution_count": 24,
   "metadata": {},
   "outputs": [
    {
     "data": {
      "image/png": "[encoded data removed]",
      "text/plain": [
       "<Figure size 720x432 with 4 Axes>"
      ]
     },
     "metadata": {
      "needs_background": "light"
     },
     "output_type": "display_data"
    }
   ],
   "source": [
    "data_plot=vinos_numericas.drop(['price'],axis=1) \n",
    "plt.figure(figsize=(10,6)) \n",
    "for idx, value in enumerate(data_plot.columns): \n",
    "    plt.subplot(1,5,idx+1) \n",
    "    plt.subplots_adjust(left=0.1, bottom=0.1, right=0.9, top=0.9, wspace=0.4, hspace=0.4) \n",
    "    sns.distplot(data_plot[value]);"
   ]
  },
  {
   "cell_type": "markdown",
   "metadata": {},
   "source": [
    "<font color ='violet'> Podemos observar que nuestros datos no son normales ya que no vemos que su distribución sea parecida a la campana de Gauss."
   ]
  },
  {
   "cell_type": "markdown",
   "metadata": {},
   "source": [
    "#### 2. Toma ahora el dataset incluyendo las variables categóricas."
   ]
  },
  {
   "cell_type": "code",
   "execution_count": 27,
   "metadata": {},
   "outputs": [
    {
     "data": {
      "text/html": [
       "<div>\n",
       "<style scoped>\n",
       "    .dataframe tbody tr th:only-of-type {\n",
       "        vertical-align: middle;\n",
       "    }\n",
       "\n",
       "    .dataframe tbody tr th {\n",
       "        vertical-align: top;\n",
       "    }\n",
       "\n",
       "    .dataframe thead th {\n",
       "        text-align: right;\n",
       "    }\n",
       "</style>\n",
       "<table border=\"1\" class=\"dataframe\">\n",
       "  <thead>\n",
       "    <tr style=\"text-align: right;\">\n",
       "      <th></th>\n",
       "      <th>winery</th>\n",
       "      <th>wine</th>\n",
       "      <th>year</th>\n",
       "      <th>country</th>\n",
       "      <th>region</th>\n",
       "      <th>type</th>\n",
       "    </tr>\n",
       "  </thead>\n",
       "  <tbody>\n",
       "    <tr>\n",
       "      <th>0</th>\n",
       "      <td>Teso La Monja</td>\n",
       "      <td>Tinto</td>\n",
       "      <td>2013</td>\n",
       "      <td>Espana</td>\n",
       "      <td>Toro</td>\n",
       "      <td>Toro Red</td>\n",
       "    </tr>\n",
       "    <tr>\n",
       "      <th>1</th>\n",
       "      <td>Artadi</td>\n",
       "      <td>Vina El Pison</td>\n",
       "      <td>2018</td>\n",
       "      <td>Espana</td>\n",
       "      <td>Vino de Espana</td>\n",
       "      <td>Tempranillo</td>\n",
       "    </tr>\n",
       "    <tr>\n",
       "      <th>2</th>\n",
       "      <td>Vega Sicilia</td>\n",
       "      <td>Unico</td>\n",
       "      <td>2009</td>\n",
       "      <td>Espana</td>\n",
       "      <td>Ribera del Duero</td>\n",
       "      <td>Ribera Del Duero Red</td>\n",
       "    </tr>\n",
       "    <tr>\n",
       "      <th>3</th>\n",
       "      <td>Vega Sicilia</td>\n",
       "      <td>Unico</td>\n",
       "      <td>1999</td>\n",
       "      <td>Espana</td>\n",
       "      <td>Ribera del Duero</td>\n",
       "      <td>Ribera Del Duero Red</td>\n",
       "    </tr>\n",
       "    <tr>\n",
       "      <th>4</th>\n",
       "      <td>Vega Sicilia</td>\n",
       "      <td>Unico</td>\n",
       "      <td>1996</td>\n",
       "      <td>Espana</td>\n",
       "      <td>Ribera del Duero</td>\n",
       "      <td>Ribera Del Duero Red</td>\n",
       "    </tr>\n",
       "  </tbody>\n",
       "</table>\n",
       "</div>"
      ],
      "text/plain": [
       "          winery           wine  year country            region  \\\n",
       "0  Teso La Monja          Tinto  2013  Espana              Toro   \n",
       "1         Artadi  Vina El Pison  2018  Espana    Vino de Espana   \n",
       "2   Vega Sicilia          Unico  2009  Espana  Ribera del Duero   \n",
       "3   Vega Sicilia          Unico  1999  Espana  Ribera del Duero   \n",
       "4   Vega Sicilia          Unico  1996  Espana  Ribera del Duero   \n",
       "\n",
       "                   type  \n",
       "0              Toro Red  \n",
       "1           Tempranillo  \n",
       "2  Ribera Del Duero Red  \n",
       "3  Ribera Del Duero Red  \n",
       "4  Ribera Del Duero Red  "
      ]
     },
     "execution_count": 27,
     "metadata": {},
     "output_type": "execute_result"
    }
   ],
   "source": [
    "categoricas = vinos.select_dtypes(include = \"object\")\n",
    "categoricas.head() "
   ]
  },
  {
   "cell_type": "markdown",
   "metadata": {},
   "source": [
    " - Realiza el EDA de las variables categóricas que se va a incluir en el modelo."
   ]
  },
  {
   "cell_type": "code",
   "execution_count": 25,
   "metadata": {},
   "outputs": [
    {
     "name": "stdout",
     "output_type": "stream",
     "text": [
      "\n",
      "\n",
      "En la columna region tenemos los siguientes valores unicos:\n",
      "Rioja                              2440\n",
      "Ribera del Duero                   1413\n",
      "Priorato                            686\n",
      "Toro                                300\n",
      "Vino de Espana                      263\n",
      "                                   ... \n",
      "Ribera del Gallego-Cinco Villas       1\n",
      "Monterrei                             1\n",
      "Jerez Cream                           1\n",
      "Condado de Huelva                     1\n",
      "Abona                                 1\n",
      "Name: region, Length: 76, dtype: int64\n",
      "\n",
      "\n",
      "En la columna type tenemos los siguientes valores unicos:\n",
      "Rioja Red               2357\n",
      "Ribera Del Duero Red    1407\n",
      "Red                      864\n",
      "Priorat Red              674\n",
      "Toro Red                 296\n",
      "Tempranillo              291\n",
      "Sherry                   274\n",
      "Albarino                 252\n",
      "Mencia                   235\n",
      "Rioja White               92\n",
      "Pedro Ximenez             35\n",
      "Grenache                  35\n",
      "Cava                      33\n",
      "Verdejo                   27\n",
      "Monastrell                18\n",
      "Montsant Red              17\n",
      "Syrah                     15\n",
      "Chardonnay                13\n",
      "Cabernet Sauvignon        11\n",
      "Sparkling                  5\n",
      "Sauvignon Blanc            4\n",
      "Name: type, dtype: int64\n",
      "\n",
      "\n",
      "En la columna wine tenemos los siguientes valores unicos:\n",
      "Reserva                         467\n",
      "Gran Reserva                    458\n",
      "Rioja Reserva                   240\n",
      "El Viejo                        224\n",
      "Corimbo I                       223\n",
      "                               ... \n",
      "4 Varietales Coleccion Rioja      1\n",
      "Noble                             1\n",
      "Primordium                        1\n",
      "Finca Helena                      1\n",
      "Capricho Crianza                  1\n",
      "Name: wine, Length: 847, dtype: int64\n",
      "\n",
      "\n",
      "En la columna year tenemos los siguientes valores unicos:\n",
      "2011    1190\n",
      "2016     897\n",
      "2015     860\n",
      "2018     850\n",
      "2017     731\n",
      "        ... \n",
      "1953       1\n",
      "1972       1\n",
      "1974       1\n",
      "1931       1\n",
      "1925       1\n",
      "Name: year, Length: 71, dtype: int64\n"
     ]
    }
   ],
   "source": [
    "for col in ['region','type','wine', 'year']:\n",
    "    print('\\n')\n",
    "    print(f\"En la columna {col} tenemos los siguientes valores unicos:\")\n",
    "    print(vinos[col].value_counts())"
   ]
  },
  {
   "cell_type": "code",
   "execution_count": 28,
   "metadata": {},
   "outputs": [
    {
     "data": {
      "image/png": "[encoded data removed]",
      "text/plain": [
       "<Figure size 720x504 with 1 Axes>"
      ]
     },
     "metadata": {
      "needs_background": "light"
     },
     "output_type": "display_data"
    }
   ],
   "source": [
    "x= vinos['type'].unique()[:10]\n",
    "y = vinos['winery'].value_counts()[:10]\n",
    "\n",
    "plt.figure()\n",
    "plt.xticks(rotation= 45)\n",
    "plt.title('Los 10 tipos de vino que más se hacen por bodega.')\n",
    "plt.bar(x,y, color ='orchid')\n",
    "plt.gcf().set_size_inches(10, 7)"
   ]
  },
  {
   "cell_type": "markdown",
   "metadata": {},
   "source": [
    "<font color = 'violet'> En esta gráfica mostramos los 10 tipo de vino que más se produce en función de la cantidad de bodegas."
   ]
  },
  {
   "cell_type": "markdown",
   "metadata": {},
   "source": [
    " - Utiliza algun tipo de codificación para las variables numéricas."
   ]
  },
  {
   "cell_type": "code",
   "execution_count": 29,
   "metadata": {},
   "outputs": [],
   "source": [
    "vinos_encoded = categoricas.copy()\n",
    "\n",
    "# iniciamos el método\n",
    "le = LabelEncoder()\n",
    "\n",
    "# lo aplicamos a todo nuestro dataframe \n",
    "for col in vinos_encoded.select_dtypes(include='object').columns:\n",
    "    vinos_encoded[col]=le.fit_transform(vinos_encoded[col])"
   ]
  },
  {
   "cell_type": "code",
   "execution_count": 30,
   "metadata": {},
   "outputs": [
    {
     "data": {
      "text/html": [
       "<div>\n",
       "<style scoped>\n",
       "    .dataframe tbody tr th:only-of-type {\n",
       "        vertical-align: middle;\n",
       "    }\n",
       "\n",
       "    .dataframe tbody tr th {\n",
       "        vertical-align: top;\n",
       "    }\n",
       "\n",
       "    .dataframe thead th {\n",
       "        text-align: right;\n",
       "    }\n",
       "</style>\n",
       "<table border=\"1\" class=\"dataframe\">\n",
       "  <thead>\n",
       "    <tr style=\"text-align: right;\">\n",
       "      <th></th>\n",
       "      <th>winery</th>\n",
       "      <th>wine</th>\n",
       "      <th>year</th>\n",
       "      <th>country</th>\n",
       "      <th>region</th>\n",
       "      <th>type</th>\n",
       "    </tr>\n",
       "  </thead>\n",
       "  <tbody>\n",
       "    <tr>\n",
       "      <th>0</th>\n",
       "      <td>422</td>\n",
       "      <td>759</td>\n",
       "      <td>61</td>\n",
       "      <td>0</td>\n",
       "      <td>69</td>\n",
       "      <td>19</td>\n",
       "    </tr>\n",
       "    <tr>\n",
       "      <th>1</th>\n",
       "      <td>33</td>\n",
       "      <td>819</td>\n",
       "      <td>66</td>\n",
       "      <td>0</td>\n",
       "      <td>74</td>\n",
       "      <td>18</td>\n",
       "    </tr>\n",
       "    <tr>\n",
       "      <th>2</th>\n",
       "      <td>447</td>\n",
       "      <td>778</td>\n",
       "      <td>57</td>\n",
       "      <td>0</td>\n",
       "      <td>57</td>\n",
       "      <td>11</td>\n",
       "    </tr>\n",
       "    <tr>\n",
       "      <th>3</th>\n",
       "      <td>447</td>\n",
       "      <td>778</td>\n",
       "      <td>47</td>\n",
       "      <td>0</td>\n",
       "      <td>57</td>\n",
       "      <td>11</td>\n",
       "    </tr>\n",
       "    <tr>\n",
       "      <th>4</th>\n",
       "      <td>447</td>\n",
       "      <td>778</td>\n",
       "      <td>44</td>\n",
       "      <td>0</td>\n",
       "      <td>57</td>\n",
       "      <td>11</td>\n",
       "    </tr>\n",
       "  </tbody>\n",
       "</table>\n",
       "</div>"
      ],
      "text/plain": [
       "   winery  wine  year  country  region  type\n",
       "0     422   759    61        0      69    19\n",
       "1      33   819    66        0      74    18\n",
       "2     447   778    57        0      57    11\n",
       "3     447   778    47        0      57    11\n",
       "4     447   778    44        0      57    11"
      ]
     },
     "execution_count": 30,
     "metadata": {},
     "output_type": "execute_result"
    }
   ],
   "source": [
    "vinos_encoded.head()"
   ]
  },
  {
   "cell_type": "code",
   "execution_count": 34,
   "metadata": {},
   "outputs": [],
   "source": [
    "vinos_encoded = vinos_encoded.drop(columns=\"country\")"
   ]
  },
  {
   "cell_type": "code",
   "execution_count": 36,
   "metadata": {},
   "outputs": [
    {
     "data": {
      "image/png": "[encoded data removed]",
      "text/plain": [
       "<Figure size 720x576 with 2 Axes>"
      ]
     },
     "metadata": {
      "needs_background": "light"
     },
     "output_type": "display_data"
    }
   ],
   "source": [
    "fig, ax = plt.subplots(figsize = (10,8))\n",
    "corr = vinos_encoded.corr()\n",
    "mask = np.triu(np.ones_like(corr, dtype=bool))\n",
    "sns.heatmap(corr,mask = mask,xticklabels=corr.columns.values,yticklabels=corr.columns.values, cmap = \"PiYG\", vmin=-1, vmax=1,annot= True );"
   ]
  },
  {
   "cell_type": "markdown",
   "metadata": {},
   "source": [
    " - Realiza la misma limpieza de datos, en caso necesario, aplicada en el dataset del apartado para dejar las variables numéricas limpias."
   ]
  },
  {
   "cell_type": "markdown",
   "metadata": {},
   "source": [
    "<font color = 'violet'> Al igual que con las variables numéricas, no consideramos necesario realizar ninguna limpieza ya que nuestro dataframe está muy limpio y claro."
   ]
  },
  {
   "cell_type": "markdown",
   "metadata": {},
   "source": [
    " - Obten el ajuste lineal múltiple incluyendo las variables categóricas"
   ]
  },
  {
   "cell_type": "code",
   "execution_count": 38,
   "metadata": {},
   "outputs": [
    {
     "name": "stdout",
     "output_type": "stream",
     "text": [
      "Para el conjunto train:---------------\n",
      "El valor de r2 score es  0.15144865973042032\n",
      "El valor de r2 score adjusted es  0.15088248702632046\n",
      "El MAE es 2.6681331043833723\n",
      "EL RMSE es  4.010684406654044\n",
      "Para el conjunto test:---------------\n",
      "El valor de r2 score es  0.1263634338637324\n",
      "El valor de r2 score adjusted es  0.12402594472356843\n",
      "El MAE es 2.6923521247070052\n",
      "EL RMSE es  4.057024098266681\n"
     ]
    }
   ],
   "source": [
    "x= vinos_encoded.drop(columns = ['type'])\n",
    "y = vinos_encoded['type']\n",
    "x_train, x_test, y_train, y_test = train_test_split(x, y, test_size = 0.2, random_state = 42)\n",
    "\n",
    "LR = LinearRegression()\n",
    "LR.fit(x_train,y_train)\n",
    "y_prediction_train =  LR.predict(x_train)\n",
    "Adj_r2_train = 1 - (1-r2_score(y_train,y_prediction_train)) * (x_train.shape[0]-1)/(x_train.shape[0]-x_train.shape[1]-1)\n",
    "\n",
    "y_prediction =  LR.predict(x_test)\n",
    "Adj_r2_test = 1 - (1-r2_score(y_test, y_prediction)) * (x_test.shape[0]-1)/(x_test.shape[0]-x_test.shape[1]-1)\n",
    "\n",
    "print('Para el conjunto train:---------------')\n",
    "print('El valor de r2 score es ',r2_score(y_train,y_prediction_train))\n",
    "print('El valor de r2 score adjusted es ',Adj_r2_train)\n",
    "print('El MAE es',mean_absolute_error(y_train,y_prediction_train))\n",
    "print('EL RMSE es ',np.sqrt(mean_squared_error(y_train,y_prediction_train)))\n",
    "\n",
    "print('Para el conjunto test:---------------')\n",
    "print('El valor de r2 score es ',r2_score(y_test,y_prediction))\n",
    "print('El valor de r2 score adjusted es ',Adj_r2_test)\n",
    "print('El MAE es',mean_absolute_error(y_test,y_prediction))\n",
    "print('EL RMSE es ',np.sqrt(mean_squared_error(y_test,y_prediction)))"
   ]
  },
  {
   "cell_type": "markdown",
   "metadata": {},
   "source": [
    "<font color = 'violet'> El valor que nos ha dado R2 es muy bajo, por lo que podemos afirmar que el ajuste linear no es demasiado bueno."
   ]
  }
 ],
 "metadata": {
  "interpreter": {
   "hash": "a2a25da4702e7ca1aacc8a7d4e81059851e19fd1060402175b35fae4c2a518e8"
  },
  "kernelspec": {
   "display_name": "Python 3.9.7 ('base')",
   "language": "python",
   "name": "python3"
  },
  "language_info": {
   "codemirror_mode": {
    "name": "ipython",
    "version": 3
   },
   "file_extension": ".py",
   "mimetype": "text/x-python",
   "name": "python",
   "nbconvert_exporter": "python",
   "pygments_lexer": "ipython3",
   "version": "3.9.7"
  },
  "orig_nbformat": 4,
  "vscode": {
   "interpreter": {
    "hash": "ef996a58dd4038b19127a5b342ff558a720418179ddf7c29df6339888c2ae8ac"
   }
  }
 },
 "nbformat": 4,
 "nbformat_minor": 2
}
