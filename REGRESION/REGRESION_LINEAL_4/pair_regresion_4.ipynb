{
 "cells": [
  {
   "cell_type": "code",
   "execution_count": 3,
   "metadata": {},
   "outputs": [],
   "source": [
    "import numpy as np\n",
    "import pandas as pd\n",
    "import matplotlib.pyplot as plt\n",
    "import seaborn as sns\n",
    "\n",
    "import warnings\n",
    "warnings.filterwarnings( \"ignore\", module = \"seaborn\\..*\" )\n",
    "\n",
    "import sidetable\n",
    "import statsmodels.api as sm\n",
    "import pylab as py\n",
    "from sklearn.model_selection import train_test_split\n",
    "from sklearn.linear_model import LinearRegression,Lasso,Ridge\n",
    "from sklearn.preprocessing import MinMaxScaler, OrdinalEncoder, StandardScaler,OneHotEncoder\n",
    "from sklearn.metrics import r2_score, mean_squared_error, mean_absolute_error\n",
    "from sklearn.preprocessing import LabelEncoder \n",
    "\n",
    "from statsmodels.tools.tools import add_constant \n",
    "from statsmodels.stats.outliers_influence import variance_inflation_factor "
   ]
  },
  {
   "cell_type": "markdown",
   "metadata": {},
   "source": [
    "#### 1. Tomando los datos del mejor modelo obtenido en la clase de la pair de ayer."
   ]
  },
  {
   "cell_type": "code",
   "execution_count": 4,
   "metadata": {},
   "outputs": [
    {
     "data": {
      "text/html": [
       "<div>\n",
       "<style scoped>\n",
       "    .dataframe tbody tr th:only-of-type {\n",
       "        vertical-align: middle;\n",
       "    }\n",
       "\n",
       "    .dataframe tbody tr th {\n",
       "        vertical-align: top;\n",
       "    }\n",
       "\n",
       "    .dataframe thead th {\n",
       "        text-align: right;\n",
       "    }\n",
       "</style>\n",
       "<table border=\"1\" class=\"dataframe\">\n",
       "  <thead>\n",
       "    <tr style=\"text-align: right;\">\n",
       "      <th></th>\n",
       "      <th>wine</th>\n",
       "      <th>year</th>\n",
       "      <th>rating</th>\n",
       "      <th>num_reviews</th>\n",
       "      <th>country</th>\n",
       "      <th>region</th>\n",
       "      <th>price</th>\n",
       "      <th>type</th>\n",
       "      <th>body</th>\n",
       "      <th>acidity</th>\n",
       "    </tr>\n",
       "    <tr>\n",
       "      <th>winery</th>\n",
       "      <th></th>\n",
       "      <th></th>\n",
       "      <th></th>\n",
       "      <th></th>\n",
       "      <th></th>\n",
       "      <th></th>\n",
       "      <th></th>\n",
       "      <th></th>\n",
       "      <th></th>\n",
       "      <th></th>\n",
       "    </tr>\n",
       "  </thead>\n",
       "  <tbody>\n",
       "    <tr>\n",
       "      <th>Ramon Bilbao</th>\n",
       "      <td>Mirto</td>\n",
       "      <td>2011</td>\n",
       "      <td>4.2</td>\n",
       "      <td>402</td>\n",
       "      <td>Espana</td>\n",
       "      <td>Rioja</td>\n",
       "      <td>28.53</td>\n",
       "      <td>Rioja Red</td>\n",
       "      <td>4.0</td>\n",
       "      <td>3.0</td>\n",
       "    </tr>\n",
       "    <tr>\n",
       "      <th>Sei Solo</th>\n",
       "      <td>Preludio</td>\n",
       "      <td>2016</td>\n",
       "      <td>4.2</td>\n",
       "      <td>388</td>\n",
       "      <td>Espana</td>\n",
       "      <td>Ribera del Duero</td>\n",
       "      <td>31.63</td>\n",
       "      <td>Ribera Del Duero Red</td>\n",
       "      <td>5.0</td>\n",
       "      <td>3.0</td>\n",
       "    </tr>\n",
       "    <tr>\n",
       "      <th>Ramon Bilbao</th>\n",
       "      <td>Mirto</td>\n",
       "      <td>2011</td>\n",
       "      <td>4.2</td>\n",
       "      <td>402</td>\n",
       "      <td>Espana</td>\n",
       "      <td>Rioja</td>\n",
       "      <td>28.53</td>\n",
       "      <td>Rioja Red</td>\n",
       "      <td>4.0</td>\n",
       "      <td>3.0</td>\n",
       "    </tr>\n",
       "    <tr>\n",
       "      <th>Losada</th>\n",
       "      <td>Altos de Losada</td>\n",
       "      <td>2018</td>\n",
       "      <td>4.2</td>\n",
       "      <td>415</td>\n",
       "      <td>Espana</td>\n",
       "      <td>Bierzo</td>\n",
       "      <td>17.90</td>\n",
       "      <td>Mencia</td>\n",
       "      <td>3.0</td>\n",
       "      <td>3.0</td>\n",
       "    </tr>\n",
       "    <tr>\n",
       "      <th>Williams &amp; Humbert</th>\n",
       "      <td>Don Guido Pedro Ximenez Solera Especial Aged 2...</td>\n",
       "      <td>N.V.</td>\n",
       "      <td>4.3</td>\n",
       "      <td>1057</td>\n",
       "      <td>Espana</td>\n",
       "      <td>Jerez-Xeres-Sherry</td>\n",
       "      <td>32.90</td>\n",
       "      <td>Pedro Ximenez</td>\n",
       "      <td>5.0</td>\n",
       "      <td>1.0</td>\n",
       "    </tr>\n",
       "    <tr>\n",
       "      <th>Losada</th>\n",
       "      <td>Altos de Losada</td>\n",
       "      <td>2018</td>\n",
       "      <td>4.2</td>\n",
       "      <td>415</td>\n",
       "      <td>Espana</td>\n",
       "      <td>Bierzo</td>\n",
       "      <td>17.90</td>\n",
       "      <td>Mencia</td>\n",
       "      <td>3.0</td>\n",
       "      <td>3.0</td>\n",
       "    </tr>\n",
       "    <tr>\n",
       "      <th>Matsu</th>\n",
       "      <td>El Viejo</td>\n",
       "      <td>2019</td>\n",
       "      <td>4.2</td>\n",
       "      <td>400</td>\n",
       "      <td>Espana</td>\n",
       "      <td>Toro</td>\n",
       "      <td>27.89</td>\n",
       "      <td>Toro Red</td>\n",
       "      <td>5.0</td>\n",
       "      <td>3.0</td>\n",
       "    </tr>\n",
       "    <tr>\n",
       "      <th>Ramon do Casar</th>\n",
       "      <td>Treixadura</td>\n",
       "      <td>2020</td>\n",
       "      <td>4.2</td>\n",
       "      <td>407</td>\n",
       "      <td>Espana</td>\n",
       "      <td>Ribeiro</td>\n",
       "      <td>11.95</td>\n",
       "      <td>NaN</td>\n",
       "      <td>NaN</td>\n",
       "      <td>NaN</td>\n",
       "    </tr>\n",
       "    <tr>\n",
       "      <th>Sierra Cantabria</th>\n",
       "      <td>Coleccion Privada</td>\n",
       "      <td>2012</td>\n",
       "      <td>4.2</td>\n",
       "      <td>420</td>\n",
       "      <td>Espana</td>\n",
       "      <td>Rioja</td>\n",
       "      <td>28.30</td>\n",
       "      <td>Rioja Red</td>\n",
       "      <td>4.0</td>\n",
       "      <td>3.0</td>\n",
       "    </tr>\n",
       "    <tr>\n",
       "      <th>Hacienda Monasterio</th>\n",
       "      <td>Reserva</td>\n",
       "      <td>2016</td>\n",
       "      <td>4.5</td>\n",
       "      <td>297</td>\n",
       "      <td>Espana</td>\n",
       "      <td>Ribera del Duero</td>\n",
       "      <td>55.95</td>\n",
       "      <td>Ribera Del Duero Red</td>\n",
       "      <td>5.0</td>\n",
       "      <td>3.0</td>\n",
       "    </tr>\n",
       "  </tbody>\n",
       "</table>\n",
       "</div>"
      ],
      "text/plain": [
       "                                                                  wine  year  \\\n",
       "winery                                                                         \n",
       "Ramon Bilbao                                                     Mirto  2011   \n",
       "Sei Solo                                                      Preludio  2016   \n",
       "Ramon Bilbao                                                     Mirto  2011   \n",
       "Losada                                                 Altos de Losada  2018   \n",
       "Williams & Humbert   Don Guido Pedro Ximenez Solera Especial Aged 2...  N.V.   \n",
       "Losada                                                 Altos de Losada  2018   \n",
       "Matsu                                                         El Viejo  2019   \n",
       "Ramon do Casar                                              Treixadura  2020   \n",
       "Sierra Cantabria                                     Coleccion Privada  2012   \n",
       "Hacienda Monasterio                                            Reserva  2016   \n",
       "\n",
       "                     rating  num_reviews country              region  price  \\\n",
       "winery                                                                        \n",
       "Ramon Bilbao            4.2          402  Espana               Rioja  28.53   \n",
       "Sei Solo                4.2          388  Espana    Ribera del Duero  31.63   \n",
       "Ramon Bilbao            4.2          402  Espana               Rioja  28.53   \n",
       "Losada                  4.2          415  Espana              Bierzo  17.90   \n",
       "Williams & Humbert      4.3         1057  Espana  Jerez-Xeres-Sherry  32.90   \n",
       "Losada                  4.2          415  Espana              Bierzo  17.90   \n",
       "Matsu                   4.2          400  Espana                Toro  27.89   \n",
       "Ramon do Casar          4.2          407  Espana             Ribeiro  11.95   \n",
       "Sierra Cantabria        4.2          420  Espana               Rioja  28.30   \n",
       "Hacienda Monasterio     4.5          297  Espana    Ribera del Duero  55.95   \n",
       "\n",
       "                                     type  body  acidity  \n",
       "winery                                                    \n",
       "Ramon Bilbao                    Rioja Red   4.0      3.0  \n",
       "Sei Solo             Ribera Del Duero Red   5.0      3.0  \n",
       "Ramon Bilbao                    Rioja Red   4.0      3.0  \n",
       "Losada                             Mencia   3.0      3.0  \n",
       "Williams & Humbert          Pedro Ximenez   5.0      1.0  \n",
       "Losada                             Mencia   3.0      3.0  \n",
       "Matsu                            Toro Red   5.0      3.0  \n",
       "Ramon do Casar                        NaN   NaN      NaN  \n",
       "Sierra Cantabria                Rioja Red   4.0      3.0  \n",
       "Hacienda Monasterio  Ribera Del Duero Red   5.0      3.0  "
      ]
     },
     "execution_count": 4,
     "metadata": {},
     "output_type": "execute_result"
    }
   ],
   "source": [
    "vinos = pd.read_csv('vinos.csv', index_col= 0)\n",
    "vinos.sample(10)"
   ]
  },
  {
   "cell_type": "code",
   "execution_count": 5,
   "metadata": {},
   "outputs": [
    {
     "data": {
      "text/html": [
       "<div>\n",
       "<style scoped>\n",
       "    .dataframe tbody tr th:only-of-type {\n",
       "        vertical-align: middle;\n",
       "    }\n",
       "\n",
       "    .dataframe tbody tr th {\n",
       "        vertical-align: top;\n",
       "    }\n",
       "\n",
       "    .dataframe thead th {\n",
       "        text-align: right;\n",
       "    }\n",
       "</style>\n",
       "<table border=\"1\" class=\"dataframe\">\n",
       "  <thead>\n",
       "    <tr style=\"text-align: right;\">\n",
       "      <th></th>\n",
       "      <th>rating</th>\n",
       "      <th>num_reviews</th>\n",
       "      <th>price</th>\n",
       "      <th>body</th>\n",
       "      <th>acidity</th>\n",
       "    </tr>\n",
       "    <tr>\n",
       "      <th>winery</th>\n",
       "      <th></th>\n",
       "      <th></th>\n",
       "      <th></th>\n",
       "      <th></th>\n",
       "      <th></th>\n",
       "    </tr>\n",
       "  </thead>\n",
       "  <tbody>\n",
       "    <tr>\n",
       "      <th>Teso La Monja</th>\n",
       "      <td>4.9</td>\n",
       "      <td>58</td>\n",
       "      <td>995.00</td>\n",
       "      <td>5.0</td>\n",
       "      <td>3.0</td>\n",
       "    </tr>\n",
       "    <tr>\n",
       "      <th>Artadi</th>\n",
       "      <td>4.9</td>\n",
       "      <td>31</td>\n",
       "      <td>313.50</td>\n",
       "      <td>4.0</td>\n",
       "      <td>2.0</td>\n",
       "    </tr>\n",
       "    <tr>\n",
       "      <th>Vega Sicilia</th>\n",
       "      <td>4.8</td>\n",
       "      <td>1793</td>\n",
       "      <td>324.95</td>\n",
       "      <td>5.0</td>\n",
       "      <td>3.0</td>\n",
       "    </tr>\n",
       "    <tr>\n",
       "      <th>Vega Sicilia</th>\n",
       "      <td>4.8</td>\n",
       "      <td>1705</td>\n",
       "      <td>692.96</td>\n",
       "      <td>5.0</td>\n",
       "      <td>3.0</td>\n",
       "    </tr>\n",
       "    <tr>\n",
       "      <th>Vega Sicilia</th>\n",
       "      <td>4.8</td>\n",
       "      <td>1309</td>\n",
       "      <td>778.06</td>\n",
       "      <td>5.0</td>\n",
       "      <td>3.0</td>\n",
       "    </tr>\n",
       "    <tr>\n",
       "      <th>...</th>\n",
       "      <td>...</td>\n",
       "      <td>...</td>\n",
       "      <td>...</td>\n",
       "      <td>...</td>\n",
       "      <td>...</td>\n",
       "    </tr>\n",
       "    <tr>\n",
       "      <th>Contino</th>\n",
       "      <td>4.2</td>\n",
       "      <td>392</td>\n",
       "      <td>19.98</td>\n",
       "      <td>4.0</td>\n",
       "      <td>3.0</td>\n",
       "    </tr>\n",
       "    <tr>\n",
       "      <th>Conreria d'Scala Dei</th>\n",
       "      <td>4.2</td>\n",
       "      <td>390</td>\n",
       "      <td>16.76</td>\n",
       "      <td>4.0</td>\n",
       "      <td>3.0</td>\n",
       "    </tr>\n",
       "    <tr>\n",
       "      <th>Mustiguillo</th>\n",
       "      <td>4.2</td>\n",
       "      <td>390</td>\n",
       "      <td>24.45</td>\n",
       "      <td>4.0</td>\n",
       "      <td>3.0</td>\n",
       "    </tr>\n",
       "    <tr>\n",
       "      <th>Matarromera</th>\n",
       "      <td>4.2</td>\n",
       "      <td>389</td>\n",
       "      <td>64.50</td>\n",
       "      <td>5.0</td>\n",
       "      <td>3.0</td>\n",
       "    </tr>\n",
       "    <tr>\n",
       "      <th>Sei Solo</th>\n",
       "      <td>4.2</td>\n",
       "      <td>388</td>\n",
       "      <td>31.63</td>\n",
       "      <td>5.0</td>\n",
       "      <td>3.0</td>\n",
       "    </tr>\n",
       "  </tbody>\n",
       "</table>\n",
       "<p>7500 rows × 5 columns</p>\n",
       "</div>"
      ],
      "text/plain": [
       "                      rating  num_reviews   price  body  acidity\n",
       "winery                                                          \n",
       "Teso La Monja            4.9           58  995.00   5.0      3.0\n",
       "Artadi                   4.9           31  313.50   4.0      2.0\n",
       "Vega Sicilia             4.8         1793  324.95   5.0      3.0\n",
       "Vega Sicilia             4.8         1705  692.96   5.0      3.0\n",
       "Vega Sicilia             4.8         1309  778.06   5.0      3.0\n",
       "...                      ...          ...     ...   ...      ...\n",
       "Contino                  4.2          392   19.98   4.0      3.0\n",
       "Conreria d'Scala Dei     4.2          390   16.76   4.0      3.0\n",
       "Mustiguillo              4.2          390   24.45   4.0      3.0\n",
       "Matarromera              4.2          389   64.50   5.0      3.0\n",
       "Sei Solo                 4.2          388   31.63   5.0      3.0\n",
       "\n",
       "[7500 rows x 5 columns]"
      ]
     },
     "execution_count": 5,
     "metadata": {},
     "output_type": "execute_result"
    }
   ],
   "source": [
    "vinos_numericas = vinos.select_dtypes(exclude = 'object')\n",
    "vinos_numericas"
   ]
  },
  {
   "cell_type": "code",
   "execution_count": 6,
   "metadata": {},
   "outputs": [
    {
     "data": {
      "text/plain": [
       "rating          0.000000\n",
       "num_reviews     0.000000\n",
       "price           0.000000\n",
       "body           15.586667\n",
       "acidity        15.586667\n",
       "dtype: float64"
      ]
     },
     "execution_count": 6,
     "metadata": {},
     "output_type": "execute_result"
    }
   ],
   "source": [
    "vinos_numericas_missing = vinos_numericas.isnull().sum() * 100 / len(vinos) \n",
    "vinos_numericas_missing "
   ]
  },
  {
   "cell_type": "code",
   "execution_count": 7,
   "metadata": {},
   "outputs": [
    {
     "name": "stderr",
     "output_type": "stream",
     "text": [
      "/home/adalaber/Descargas/yes/lib/python3.9/site-packages/pandas/util/_decorators.py:311: SettingWithCopyWarning: \n",
      "A value is trying to be set on a copy of a slice from a DataFrame\n",
      "\n",
      "See the caveats in the documentation: https://pandas.pydata.org/pandas-docs/stable/user_guide/indexing.html#returning-a-view-versus-a-copy\n",
      "  return func(*args, **kwargs)\n"
     ]
    }
   ],
   "source": [
    "vinos_numericas.drop_duplicates(inplace= True)"
   ]
  },
  {
   "cell_type": "code",
   "execution_count": 8,
   "metadata": {},
   "outputs": [],
   "source": [
    "vinos_encoded = vinos.copy()\n",
    "\n",
    "le = LabelEncoder()\n",
    "\n",
    "\n",
    "for col in vinos_encoded.select_dtypes(include='object').columns:\n",
    "    vinos_encoded[col]=le.fit_transform(vinos_encoded[col])"
   ]
  },
  {
   "cell_type": "code",
   "execution_count": 9,
   "metadata": {},
   "outputs": [],
   "source": [
    "vinos_encoded.dropna(inplace=True)"
   ]
  },
  {
   "cell_type": "code",
   "execution_count": 10,
   "metadata": {},
   "outputs": [
    {
     "name": "stdout",
     "output_type": "stream",
     "text": [
      "Para el conjunto train:---------------\n",
      "El valor de r2 score es  0.31245859717077085\n",
      "El valor de r2 score adjusted es  0.31123424564218694\n",
      "El MAE es 2.229507377190017\n",
      "EL RMSE es  3.0432435281587686\n",
      "Para el conjunto test:---------------\n",
      "El valor de r2 score es  0.2978647766088376\n",
      "El valor de r2 score adjusted es  0.2928375554389725\n",
      "El MAE es 2.1830246812100738\n",
      "EL RMSE es  2.9457519340712413\n"
     ]
    }
   ],
   "source": [
    "x= vinos_encoded.drop(columns = ['type'])\n",
    "y = vinos_encoded['type']\n",
    "x_train, x_test, y_train, y_test = train_test_split(x, y, test_size = 0.2, random_state = 42)\n",
    "\n",
    "LR = LinearRegression()\n",
    "LR.fit(x_train,y_train)\n",
    "y_prediction_train =  LR.predict(x_train)\n",
    "Adj_r2_train = 1 - (1-r2_score(y_train,y_prediction_train)) * (x_train.shape[0]-1)/(x_train.shape[0]-x_train.shape[1]-1)\n",
    "\n",
    "y_prediction =  LR.predict(x_test)\n",
    "Adj_r2_test = 1 - (1-r2_score(y_test, y_prediction)) * (x_test.shape[0]-1)/(x_test.shape[0]-x_test.shape[1]-1)\n",
    "\n",
    "print('Para el conjunto train:---------------')\n",
    "print('El valor de r2 score es ',r2_score(y_train,y_prediction_train))\n",
    "print('El valor de r2 score adjusted es ',Adj_r2_train)\n",
    "print('El MAE es',mean_absolute_error(y_train,y_prediction_train))\n",
    "print('EL RMSE es ',np.sqrt(mean_squared_error(y_train,y_prediction_train)))\n",
    "\n",
    "print('Para el conjunto test:---------------')\n",
    "print('El valor de r2 score es ',r2_score(y_test,y_prediction))\n",
    "print('El valor de r2 score adjusted es ',Adj_r2_test)\n",
    "print('El MAE es',mean_absolute_error(y_test,y_prediction))\n",
    "print('EL RMSE es ',np.sqrt(mean_squared_error(y_test,y_prediction)))"
   ]
  },
  {
   "cell_type": "markdown",
   "metadata": {},
   "source": [
    " - Investiga la multicolinealidad de las variables independientes."
   ]
  },
  {
   "cell_type": "code",
   "execution_count": 11,
   "metadata": {},
   "outputs": [],
   "source": [
    "def get_VIF(dataframe, target): \n",
    "    X = add_constant(dataframe.loc[:, dataframe.columns != target]) \n",
    "    seriesObject = pd.Series([variance_inflation_factor(X.values,i) for i in range(X.shape[1])] , index=X.columns,).sort_values(ascending= False) \n",
    "    return seriesObject "
   ]
  },
  {
   "cell_type": "code",
   "execution_count": 12,
   "metadata": {},
   "outputs": [
    {
     "name": "stderr",
     "output_type": "stream",
     "text": [
      "/home/adalaber/Descargas/yes/lib/python3.9/site-packages/statsmodels/tsa/tsatools.py:142: FutureWarning: In a future version of pandas all arguments of concat except for the argument 'objs' will be keyword-only\n",
      "  x = pd.concat(x[::order], 1)\n",
      "/home/adalaber/Descargas/yes/lib/python3.9/site-packages/statsmodels/regression/linear_model.py:1715: RuntimeWarning: invalid value encountered in double_scalars\n",
      "  return 1 - self.ssr/self.centered_tss\n"
     ]
    },
    {
     "data": {
      "text/plain": [
       "const          1825.062888\n",
       "type              1.448145\n",
       "body              1.327463\n",
       "region            1.310749\n",
       "year              1.169400\n",
       "acidity           1.158800\n",
       "rating            1.125159\n",
       "wine              1.074551\n",
       "num_reviews       1.018993\n",
       "country                NaN\n",
       "dtype: float64"
      ]
     },
     "execution_count": 12,
     "metadata": {},
     "output_type": "execute_result"
    }
   ],
   "source": [
    "get_VIF(vinos_encoded,'price')"
   ]
  },
  {
   "cell_type": "markdown",
   "metadata": {},
   "source": [
    "<font color = 'orange'>Vemos que no necesitamos deshacernos de ninguna columna, porque no existe relación de dependencia lineal entre ellas. En caso de querer tirar alguna este sería el código: get_VIF(vinos_encoded.drop(columns = ['rating']),'price') "
   ]
  },
  {
   "cell_type": "markdown",
   "metadata": {},
   "source": [
    "  - Selecciona aquellas variables que tengan una colinealidad dentro de los margenes estandar. Mostrando como se han ido eliminando las variables y como han cambiado los resultados del VIF.\n",
    "  - Realiza un modelo de regresión lineal multiple para ver si se han mejorado los resultados obtenidos.\n",
    "\n",
    "\n",
    "\n",
    "<font color = 'orange'>No nos hemos deshecho de ninguna columna por lo que no es necesario repetir el modelo."
   ]
  },
  {
   "cell_type": "markdown",
   "metadata": {},
   "source": [
    " - Estudia si tus resultados son acordes a las asunciones de linealidad."
   ]
  },
  {
   "cell_type": "code",
   "execution_count": 13,
   "metadata": {},
   "outputs": [
    {
     "data": {
      "image/png": "[encoded data removed]",
      "text/plain": [
       "<Figure size 576x288 with 1 Axes>"
      ]
     },
     "metadata": {
      "needs_background": "light"
     },
     "output_type": "display_data"
    },
    {
     "data": {
      "image/png": "[encoded data removed]",
      "text/plain": [
       "<Figure size 576x288 with 1 Axes>"
      ]
     },
     "metadata": {
      "needs_background": "light"
     },
     "output_type": "display_data"
    },
    {
     "data": {
      "image/png": "[encoded data removed]",
      "text/plain": [
       "<Figure size 432x288 with 1 Axes>"
      ]
     },
     "metadata": {
      "needs_background": "light"
     },
     "output_type": "display_data"
    },
    {
     "name": "stderr",
     "output_type": "stream",
     "text": [
      "/home/adalaber/Descargas/yes/lib/python3.9/site-packages/statsmodels/graphics/gofplots.py:993: UserWarning: marker is redundantly defined by the 'marker' keyword argument and the fmt string \"bo\" (-> marker='o'). The keyword argument will take precedence.\n",
      "  ax.plot(x, y, fmt, **plot_style)\n"
     ]
    },
    {
     "data": {
      "image/png": "[encoded data removed]",
      "text/plain": [
       "<Figure size 432x288 with 1 Axes>"
      ]
     },
     "metadata": {
      "needs_background": "light"
     },
     "output_type": "display_data"
    }
   ],
   "source": [
    "residuals = (y_test - y_prediction)\n",
    "\n",
    "\n",
    "# 2. Independencia\n",
    "\n",
    "fig,ax = plt.subplots(figsize= (8,4))\n",
    "plt.scatter(x=y_test , y=residuals)\n",
    "plt.axline((float(min(y_prediction)),0),(float(max(y_prediction)),0),color=\"black\",linestyle= '--') \n",
    "plt.title('Gráfica de dispersion de dos conjuntos de datos')\n",
    "ax.set_xlabel('Longitud del sépalo conjunto test')\n",
    "ax.set_ylabel('Residuos')\n",
    "plt.show()\n",
    "\n",
    "\n",
    "# 3. Homocedasticidad\n",
    "\n",
    "fig,ax = plt.subplots(figsize= (8,4))\n",
    "plt.scatter(x=y_prediction , y=residuals)\n",
    "plt.axline((float(min(y_prediction)),0),(float(max(y_prediction)),0),color=\"black\",linestyle= '--') \n",
    "plt.title('Gráfica de dispersion de dos conjuntos de datos')\n",
    "ax.set_xlabel('Longitud del sépalo conjunto test predicho')\n",
    "ax.set_ylabel('Residuos')\n",
    "plt.show()\n",
    "\n",
    "# 4. Normalidad\n",
    "fig = plt.figure()\n",
    "sns.distplot(residuals,bins = len(residuals))\n",
    "plt.show()\n",
    "sm.qqplot(residuals, line = '45', fit = True)\n",
    "py.show()"
   ]
  },
  {
   "cell_type": "markdown",
   "metadata": {},
   "source": [
    "#### 2. Toma ahora el dataset del mejor modelo obtenido y aplica los siguentes modelos de regresión con regularización."
   ]
  },
  {
   "cell_type": "markdown",
   "metadata": {},
   "source": [
    " - Ridge"
   ]
  },
  {
   "cell_type": "code",
   "execution_count": 16,
   "metadata": {},
   "outputs": [
    {
     "name": "stdout",
     "output_type": "stream",
     "text": [
      "Para el conjunto train:\n",
      "El valor de r2 score es  0.30006275014317396\n",
      "El valor de r2 score adjusted es  0.2988163244904808\n",
      "El MAE es 39.43450584432502\n",
      "EL RMSE es  135.98734111385187\n",
      "\n",
      "\n",
      "Para el conjunto test:\n",
      "El valor de r2 score es  0.29731968595495184\n",
      "El valor de r2 score adjusted es  0.2922885619880422\n",
      "El MAE es 44.39125373582196\n",
      "EL RMSE es  136.50404727271018\n"
     ]
    }
   ],
   "source": [
    "x = vinos_encoded.drop(columns = ['price'])\n",
    "y = vinos_encoded['price']\n",
    "x_train, x_test, y_train, y_test = train_test_split(x, y, test_size = 0.2, random_state = 42)\n",
    "\n",
    "LR = Ridge(normalize= True) \n",
    "\n",
    "LR.fit(x_train,y_train)\n",
    "y_prediction_train =  LR.predict(x_train)\n",
    "Adj_r2_train = 1 - (1-r2_score(y_train,y_prediction_train)) * (x_train.shape[0]-1)/(x_train.shape[0]-x_train.shape[1]-1)\n",
    "\n",
    "y_prediction =  LR.predict(x_test)\n",
    "Adj_r2_test = 1 - (1-r2_score(y_test, y_prediction)) * (x_test.shape[0]-1)/(x_test.shape[0]-x_test.shape[1]-1)\n",
    "\n",
    "print('Para el conjunto train:')\n",
    "print('El valor de r2 score es ',r2_score(y_train,y_prediction_train))\n",
    "print('El valor de r2 score adjusted es ',Adj_r2_train)\n",
    "print('El MAE es',mean_absolute_error(y_train,y_prediction_train))\n",
    "print('EL RMSE es ',np.sqrt(mean_squared_error(y_train,y_prediction_train)))\n",
    "print('\\n')\n",
    "print('Para el conjunto test:')\n",
    "print('El valor de r2 score es ',r2_score(y_test,y_prediction))\n",
    "print('El valor de r2 score adjusted es ',Adj_r2_test)\n",
    "print('El MAE es',mean_absolute_error(y_test,y_prediction))\n",
    "print('EL RMSE es ',np.sqrt(mean_squared_error(y_test,y_prediction)))"
   ]
  },
  {
   "cell_type": "markdown",
   "metadata": {},
   "source": [
    " - Lasso"
   ]
  },
  {
   "cell_type": "code",
   "execution_count": 17,
   "metadata": {},
   "outputs": [
    {
     "name": "stdout",
     "output_type": "stream",
     "text": [
      "Para el conjunto train:\n",
      "El valor de r2 score es  0.10051858557933635\n",
      "El valor de r2 score adjusted es  0.09891681812191921\n",
      "El MAE es 49.97296762966235\n",
      "EL RMSE es  154.15763039370748\n",
      "\n",
      "\n",
      "Para el conjunto test:\n",
      "El valor de r2 score es  0.12094399797706246\n",
      "El valor de r2 score adjusted es  0.1146500409220057\n",
      "El MAE es 53.74059809312188\n",
      "EL RMSE es  152.6774530870131\n"
     ]
    }
   ],
   "source": [
    "x = vinos_encoded.drop(columns = ['price'])\n",
    "y = vinos_encoded['price']\n",
    "x_train, x_test, y_train, y_test = train_test_split(x, y, test_size = 0.2, random_state = 42)\n",
    "\n",
    "LR = Lasso(normalize= True) \n",
    "\n",
    "LR.fit(x_train,y_train)\n",
    "y_prediction_train =  LR.predict(x_train)\n",
    "Adj_r2_train = 1 - (1-r2_score(y_train,y_prediction_train)) * (x_train.shape[0]-1)/(x_train.shape[0]-x_train.shape[1]-1)\n",
    "\n",
    "y_prediction =  LR.predict(x_test)\n",
    "Adj_r2_test = 1 - (1-r2_score(y_test, y_prediction)) * (x_test.shape[0]-1)/(x_test.shape[0]-x_test.shape[1]-1)\n",
    "\n",
    "print('Para el conjunto train:')\n",
    "print('El valor de r2 score es ',r2_score(y_train,y_prediction_train))\n",
    "print('El valor de r2 score adjusted es ',Adj_r2_train)\n",
    "print('El MAE es',mean_absolute_error(y_train,y_prediction_train))\n",
    "print('EL RMSE es ',np.sqrt(mean_squared_error(y_train,y_prediction_train)))\n",
    "print('\\n')\n",
    "print('Para el conjunto test:')\n",
    "print('El valor de r2 score es ',r2_score(y_test,y_prediction))\n",
    "print('El valor de r2 score adjusted es ',Adj_r2_test)\n",
    "print('El MAE es',mean_absolute_error(y_test,y_prediction))\n",
    "print('EL RMSE es ',np.sqrt(mean_squared_error(y_test,y_prediction)))"
   ]
  },
  {
   "cell_type": "markdown",
   "metadata": {},
   "source": [
    "<font color = 'orange'> Tras aplicar las regresiones con las penalizaciones Ridge y Lasso vemos que hemos obtenido resultados peores."
   ]
  }
 ],
 "metadata": {
  "kernelspec": {
   "display_name": "Python 3.9.7 ('base')",
   "language": "python",
   "name": "python3"
  },
  "language_info": {
   "codemirror_mode": {
    "name": "ipython",
    "version": 3
   },
   "file_extension": ".py",
   "mimetype": "text/x-python",
   "name": "python",
   "nbconvert_exporter": "python",
   "pygments_lexer": "ipython3",
   "version": "3.9.7"
  },
  "orig_nbformat": 4,
  "vscode": {
   "interpreter": {
    "hash": "ef996a58dd4038b19127a5b342ff558a720418179ddf7c29df6339888c2ae8ac"
   }
  }
 },
 "nbformat": 4,
 "nbformat_minor": 2
}
