{
 "cells": [
  {
   "cell_type": "code",
   "execution_count": 3,
   "metadata": {},
   "outputs": [],
   "source": [
    "import numpy as np\n",
    "import pandas as pd\n",
    "import matplotlib.pyplot as plt\n",
    "import seaborn as sns\n",
    "import sidetable\n",
    "import statsmodels.api as sm\n",
    "import pylab as py\n",
    "from sklearn.model_selection import train_test_split\n",
    "from sklearn.linear_model import LinearRegression\n",
    "from sklearn.metrics import r2_score, mean_squared_error, mean_absolute_error"
   ]
  },
  {
   "cell_type": "markdown",
   "metadata": {},
   "source": [
    "#### 1. Buscar un conjunto de datos a analizar:"
   ]
  },
  {
   "cell_type": "code",
   "execution_count": 4,
   "metadata": {},
   "outputs": [
    {
     "data": {
      "text/html": [
       "<div>\n",
       "<style scoped>\n",
       "    .dataframe tbody tr th:only-of-type {\n",
       "        vertical-align: middle;\n",
       "    }\n",
       "\n",
       "    .dataframe tbody tr th {\n",
       "        vertical-align: top;\n",
       "    }\n",
       "\n",
       "    .dataframe thead th {\n",
       "        text-align: right;\n",
       "    }\n",
       "</style>\n",
       "<table border=\"1\" class=\"dataframe\">\n",
       "  <thead>\n",
       "    <tr style=\"text-align: right;\">\n",
       "      <th></th>\n",
       "      <th>winery</th>\n",
       "      <th>wine</th>\n",
       "      <th>year</th>\n",
       "      <th>rating</th>\n",
       "      <th>num_reviews</th>\n",
       "      <th>country</th>\n",
       "      <th>region</th>\n",
       "      <th>price</th>\n",
       "      <th>type</th>\n",
       "      <th>body</th>\n",
       "      <th>acidity</th>\n",
       "    </tr>\n",
       "  </thead>\n",
       "  <tbody>\n",
       "    <tr>\n",
       "      <th>0</th>\n",
       "      <td>Teso La Monja</td>\n",
       "      <td>Tinto</td>\n",
       "      <td>2013</td>\n",
       "      <td>4.9</td>\n",
       "      <td>58</td>\n",
       "      <td>Espana</td>\n",
       "      <td>Toro</td>\n",
       "      <td>995.00</td>\n",
       "      <td>Toro Red</td>\n",
       "      <td>5.0</td>\n",
       "      <td>3.0</td>\n",
       "    </tr>\n",
       "    <tr>\n",
       "      <th>1</th>\n",
       "      <td>Artadi</td>\n",
       "      <td>Vina El Pison</td>\n",
       "      <td>2018</td>\n",
       "      <td>4.9</td>\n",
       "      <td>31</td>\n",
       "      <td>Espana</td>\n",
       "      <td>Vino de Espana</td>\n",
       "      <td>313.50</td>\n",
       "      <td>Tempranillo</td>\n",
       "      <td>4.0</td>\n",
       "      <td>2.0</td>\n",
       "    </tr>\n",
       "    <tr>\n",
       "      <th>2</th>\n",
       "      <td>Vega Sicilia</td>\n",
       "      <td>Unico</td>\n",
       "      <td>2009</td>\n",
       "      <td>4.8</td>\n",
       "      <td>1793</td>\n",
       "      <td>Espana</td>\n",
       "      <td>Ribera del Duero</td>\n",
       "      <td>324.95</td>\n",
       "      <td>Ribera Del Duero Red</td>\n",
       "      <td>5.0</td>\n",
       "      <td>3.0</td>\n",
       "    </tr>\n",
       "    <tr>\n",
       "      <th>3</th>\n",
       "      <td>Vega Sicilia</td>\n",
       "      <td>Unico</td>\n",
       "      <td>1999</td>\n",
       "      <td>4.8</td>\n",
       "      <td>1705</td>\n",
       "      <td>Espana</td>\n",
       "      <td>Ribera del Duero</td>\n",
       "      <td>692.96</td>\n",
       "      <td>Ribera Del Duero Red</td>\n",
       "      <td>5.0</td>\n",
       "      <td>3.0</td>\n",
       "    </tr>\n",
       "    <tr>\n",
       "      <th>4</th>\n",
       "      <td>Vega Sicilia</td>\n",
       "      <td>Unico</td>\n",
       "      <td>1996</td>\n",
       "      <td>4.8</td>\n",
       "      <td>1309</td>\n",
       "      <td>Espana</td>\n",
       "      <td>Ribera del Duero</td>\n",
       "      <td>778.06</td>\n",
       "      <td>Ribera Del Duero Red</td>\n",
       "      <td>5.0</td>\n",
       "      <td>3.0</td>\n",
       "    </tr>\n",
       "    <tr>\n",
       "      <th>5</th>\n",
       "      <td>Vega Sicilia</td>\n",
       "      <td>Unico</td>\n",
       "      <td>1998</td>\n",
       "      <td>4.8</td>\n",
       "      <td>1209</td>\n",
       "      <td>Espana</td>\n",
       "      <td>Ribera del Duero</td>\n",
       "      <td>490.00</td>\n",
       "      <td>Ribera Del Duero Red</td>\n",
       "      <td>5.0</td>\n",
       "      <td>3.0</td>\n",
       "    </tr>\n",
       "    <tr>\n",
       "      <th>6</th>\n",
       "      <td>Vega Sicilia</td>\n",
       "      <td>Unico</td>\n",
       "      <td>2010</td>\n",
       "      <td>4.8</td>\n",
       "      <td>1201</td>\n",
       "      <td>Espana</td>\n",
       "      <td>Ribera del Duero</td>\n",
       "      <td>349.00</td>\n",
       "      <td>Ribera Del Duero Red</td>\n",
       "      <td>5.0</td>\n",
       "      <td>3.0</td>\n",
       "    </tr>\n",
       "    <tr>\n",
       "      <th>7</th>\n",
       "      <td>Vega Sicilia</td>\n",
       "      <td>Unico</td>\n",
       "      <td>1995</td>\n",
       "      <td>4.8</td>\n",
       "      <td>926</td>\n",
       "      <td>Espana</td>\n",
       "      <td>Ribera del Duero</td>\n",
       "      <td>810.89</td>\n",
       "      <td>Ribera Del Duero Red</td>\n",
       "      <td>5.0</td>\n",
       "      <td>3.0</td>\n",
       "    </tr>\n",
       "    <tr>\n",
       "      <th>8</th>\n",
       "      <td>Vega Sicilia</td>\n",
       "      <td>Unico Reserva Especial Edicion</td>\n",
       "      <td>2015</td>\n",
       "      <td>4.8</td>\n",
       "      <td>643</td>\n",
       "      <td>Espana</td>\n",
       "      <td>Ribera del Duero</td>\n",
       "      <td>345.00</td>\n",
       "      <td>Ribera Del Duero Red</td>\n",
       "      <td>5.0</td>\n",
       "      <td>3.0</td>\n",
       "    </tr>\n",
       "    <tr>\n",
       "      <th>9</th>\n",
       "      <td>Vega Sicilia</td>\n",
       "      <td>Unico</td>\n",
       "      <td>2011</td>\n",
       "      <td>4.8</td>\n",
       "      <td>630</td>\n",
       "      <td>Espana</td>\n",
       "      <td>Ribera del Duero</td>\n",
       "      <td>315.00</td>\n",
       "      <td>Ribera Del Duero Red</td>\n",
       "      <td>5.0</td>\n",
       "      <td>3.0</td>\n",
       "    </tr>\n",
       "  </tbody>\n",
       "</table>\n",
       "</div>"
      ],
      "text/plain": [
       "          winery                            wine  year  rating  num_reviews  \\\n",
       "0  Teso La Monja                           Tinto  2013     4.9           58   \n",
       "1         Artadi                   Vina El Pison  2018     4.9           31   \n",
       "2   Vega Sicilia                           Unico  2009     4.8         1793   \n",
       "3   Vega Sicilia                           Unico  1999     4.8         1705   \n",
       "4   Vega Sicilia                           Unico  1996     4.8         1309   \n",
       "5   Vega Sicilia                           Unico  1998     4.8         1209   \n",
       "6   Vega Sicilia                           Unico  2010     4.8         1201   \n",
       "7   Vega Sicilia                           Unico  1995     4.8          926   \n",
       "8   Vega Sicilia  Unico Reserva Especial Edicion  2015     4.8          643   \n",
       "9   Vega Sicilia                           Unico  2011     4.8          630   \n",
       "\n",
       "  country            region   price                  type  body  acidity  \n",
       "0  Espana              Toro  995.00              Toro Red   5.0      3.0  \n",
       "1  Espana    Vino de Espana  313.50           Tempranillo   4.0      2.0  \n",
       "2  Espana  Ribera del Duero  324.95  Ribera Del Duero Red   5.0      3.0  \n",
       "3  Espana  Ribera del Duero  692.96  Ribera Del Duero Red   5.0      3.0  \n",
       "4  Espana  Ribera del Duero  778.06  Ribera Del Duero Red   5.0      3.0  \n",
       "5  Espana  Ribera del Duero  490.00  Ribera Del Duero Red   5.0      3.0  \n",
       "6  Espana  Ribera del Duero  349.00  Ribera Del Duero Red   5.0      3.0  \n",
       "7  Espana  Ribera del Duero  810.89  Ribera Del Duero Red   5.0      3.0  \n",
       "8  Espana  Ribera del Duero  345.00  Ribera Del Duero Red   5.0      3.0  \n",
       "9  Espana  Ribera del Duero  315.00  Ribera Del Duero Red   5.0      3.0  "
      ]
     },
     "execution_count": 4,
     "metadata": {},
     "output_type": "execute_result"
    }
   ],
   "source": [
    "vinos = pd.read_csv('vinos.csv', index_col= 0).reset_index()\n",
    "vinos.head(10)"
   ]
  },
  {
   "cell_type": "markdown",
   "metadata": {},
   "source": [
    "<font color = 'violet'> Hacemos un reset index para que `winery` deje de ser el índex y poder usarla como variable."
   ]
  },
  {
   "cell_type": "markdown",
   "metadata": {},
   "source": [
    "#### 2. Explicar los datos y las variables disponibles en el conjunto de datos seleccionado:\n",
    "Esto se hace para que comprendais mejor los datos con los que estais trabajando.\n",
    "Realizar un EDA sencillo para la variable dependiente y la variable independiente."
   ]
  },
  {
   "cell_type": "code",
   "execution_count": 5,
   "metadata": {},
   "outputs": [
    {
     "data": {
      "text/html": [
       "<div>\n",
       "<style scoped>\n",
       "    .dataframe tbody tr th:only-of-type {\n",
       "        vertical-align: middle;\n",
       "    }\n",
       "\n",
       "    .dataframe tbody tr th {\n",
       "        vertical-align: top;\n",
       "    }\n",
       "\n",
       "    .dataframe thead th {\n",
       "        text-align: right;\n",
       "    }\n",
       "</style>\n",
       "<table border=\"1\" class=\"dataframe\">\n",
       "  <thead>\n",
       "    <tr style=\"text-align: right;\">\n",
       "      <th></th>\n",
       "      <th>winery</th>\n",
       "      <th>wine</th>\n",
       "      <th>year</th>\n",
       "      <th>rating</th>\n",
       "      <th>num_reviews</th>\n",
       "      <th>country</th>\n",
       "      <th>region</th>\n",
       "      <th>price</th>\n",
       "      <th>type</th>\n",
       "      <th>body</th>\n",
       "      <th>acidity</th>\n",
       "    </tr>\n",
       "  </thead>\n",
       "  <tbody>\n",
       "    <tr>\n",
       "      <th>count</th>\n",
       "      <td>7500</td>\n",
       "      <td>7500</td>\n",
       "      <td>7498</td>\n",
       "      <td>7500.000000</td>\n",
       "      <td>7500.000000</td>\n",
       "      <td>7500</td>\n",
       "      <td>7500</td>\n",
       "      <td>7500.000000</td>\n",
       "      <td>6955</td>\n",
       "      <td>6331.000000</td>\n",
       "      <td>6331.000000</td>\n",
       "    </tr>\n",
       "    <tr>\n",
       "      <th>unique</th>\n",
       "      <td>480</td>\n",
       "      <td>847</td>\n",
       "      <td>71</td>\n",
       "      <td>NaN</td>\n",
       "      <td>NaN</td>\n",
       "      <td>1</td>\n",
       "      <td>76</td>\n",
       "      <td>NaN</td>\n",
       "      <td>21</td>\n",
       "      <td>NaN</td>\n",
       "      <td>NaN</td>\n",
       "    </tr>\n",
       "    <tr>\n",
       "      <th>top</th>\n",
       "      <td>Contino</td>\n",
       "      <td>Reserva</td>\n",
       "      <td>2011</td>\n",
       "      <td>NaN</td>\n",
       "      <td>NaN</td>\n",
       "      <td>Espana</td>\n",
       "      <td>Rioja</td>\n",
       "      <td>NaN</td>\n",
       "      <td>Rioja Red</td>\n",
       "      <td>NaN</td>\n",
       "      <td>NaN</td>\n",
       "    </tr>\n",
       "    <tr>\n",
       "      <th>freq</th>\n",
       "      <td>457</td>\n",
       "      <td>467</td>\n",
       "      <td>1190</td>\n",
       "      <td>NaN</td>\n",
       "      <td>NaN</td>\n",
       "      <td>7500</td>\n",
       "      <td>2440</td>\n",
       "      <td>NaN</td>\n",
       "      <td>2357</td>\n",
       "      <td>NaN</td>\n",
       "      <td>NaN</td>\n",
       "    </tr>\n",
       "    <tr>\n",
       "      <th>mean</th>\n",
       "      <td>NaN</td>\n",
       "      <td>NaN</td>\n",
       "      <td>NaN</td>\n",
       "      <td>4.254933</td>\n",
       "      <td>451.109067</td>\n",
       "      <td>NaN</td>\n",
       "      <td>NaN</td>\n",
       "      <td>60.095822</td>\n",
       "      <td>NaN</td>\n",
       "      <td>4.158427</td>\n",
       "      <td>2.946612</td>\n",
       "    </tr>\n",
       "    <tr>\n",
       "      <th>std</th>\n",
       "      <td>NaN</td>\n",
       "      <td>NaN</td>\n",
       "      <td>NaN</td>\n",
       "      <td>0.118029</td>\n",
       "      <td>723.001856</td>\n",
       "      <td>NaN</td>\n",
       "      <td>NaN</td>\n",
       "      <td>150.356676</td>\n",
       "      <td>NaN</td>\n",
       "      <td>0.583352</td>\n",
       "      <td>0.248202</td>\n",
       "    </tr>\n",
       "    <tr>\n",
       "      <th>min</th>\n",
       "      <td>NaN</td>\n",
       "      <td>NaN</td>\n",
       "      <td>NaN</td>\n",
       "      <td>4.200000</td>\n",
       "      <td>25.000000</td>\n",
       "      <td>NaN</td>\n",
       "      <td>NaN</td>\n",
       "      <td>4.990000</td>\n",
       "      <td>NaN</td>\n",
       "      <td>2.000000</td>\n",
       "      <td>1.000000</td>\n",
       "    </tr>\n",
       "    <tr>\n",
       "      <th>25%</th>\n",
       "      <td>NaN</td>\n",
       "      <td>NaN</td>\n",
       "      <td>NaN</td>\n",
       "      <td>4.200000</td>\n",
       "      <td>389.000000</td>\n",
       "      <td>NaN</td>\n",
       "      <td>NaN</td>\n",
       "      <td>18.900000</td>\n",
       "      <td>NaN</td>\n",
       "      <td>4.000000</td>\n",
       "      <td>3.000000</td>\n",
       "    </tr>\n",
       "    <tr>\n",
       "      <th>50%</th>\n",
       "      <td>NaN</td>\n",
       "      <td>NaN</td>\n",
       "      <td>NaN</td>\n",
       "      <td>4.200000</td>\n",
       "      <td>404.000000</td>\n",
       "      <td>NaN</td>\n",
       "      <td>NaN</td>\n",
       "      <td>28.530000</td>\n",
       "      <td>NaN</td>\n",
       "      <td>4.000000</td>\n",
       "      <td>3.000000</td>\n",
       "    </tr>\n",
       "    <tr>\n",
       "      <th>75%</th>\n",
       "      <td>NaN</td>\n",
       "      <td>NaN</td>\n",
       "      <td>NaN</td>\n",
       "      <td>4.200000</td>\n",
       "      <td>415.000000</td>\n",
       "      <td>NaN</td>\n",
       "      <td>NaN</td>\n",
       "      <td>51.350000</td>\n",
       "      <td>NaN</td>\n",
       "      <td>5.000000</td>\n",
       "      <td>3.000000</td>\n",
       "    </tr>\n",
       "    <tr>\n",
       "      <th>max</th>\n",
       "      <td>NaN</td>\n",
       "      <td>NaN</td>\n",
       "      <td>NaN</td>\n",
       "      <td>4.900000</td>\n",
       "      <td>32624.000000</td>\n",
       "      <td>NaN</td>\n",
       "      <td>NaN</td>\n",
       "      <td>3119.080000</td>\n",
       "      <td>NaN</td>\n",
       "      <td>5.000000</td>\n",
       "      <td>3.000000</td>\n",
       "    </tr>\n",
       "  </tbody>\n",
       "</table>\n",
       "</div>"
      ],
      "text/plain": [
       "         winery     wine  year       rating   num_reviews country region  \\\n",
       "count      7500     7500  7498  7500.000000   7500.000000    7500   7500   \n",
       "unique      480      847    71          NaN           NaN       1     76   \n",
       "top     Contino  Reserva  2011          NaN           NaN  Espana  Rioja   \n",
       "freq        457      467  1190          NaN           NaN    7500   2440   \n",
       "mean        NaN      NaN   NaN     4.254933    451.109067     NaN    NaN   \n",
       "std         NaN      NaN   NaN     0.118029    723.001856     NaN    NaN   \n",
       "min         NaN      NaN   NaN     4.200000     25.000000     NaN    NaN   \n",
       "25%         NaN      NaN   NaN     4.200000    389.000000     NaN    NaN   \n",
       "50%         NaN      NaN   NaN     4.200000    404.000000     NaN    NaN   \n",
       "75%         NaN      NaN   NaN     4.200000    415.000000     NaN    NaN   \n",
       "max         NaN      NaN   NaN     4.900000  32624.000000     NaN    NaN   \n",
       "\n",
       "              price       type         body      acidity  \n",
       "count   7500.000000       6955  6331.000000  6331.000000  \n",
       "unique          NaN         21          NaN          NaN  \n",
       "top             NaN  Rioja Red          NaN          NaN  \n",
       "freq            NaN       2357          NaN          NaN  \n",
       "mean      60.095822        NaN     4.158427     2.946612  \n",
       "std      150.356676        NaN     0.583352     0.248202  \n",
       "min        4.990000        NaN     2.000000     1.000000  \n",
       "25%       18.900000        NaN     4.000000     3.000000  \n",
       "50%       28.530000        NaN     4.000000     3.000000  \n",
       "75%       51.350000        NaN     5.000000     3.000000  \n",
       "max     3119.080000        NaN     5.000000     3.000000  "
      ]
     },
     "execution_count": 5,
     "metadata": {},
     "output_type": "execute_result"
    }
   ],
   "source": [
    "vinos.describe(include='all')"
   ]
  },
  {
   "cell_type": "code",
   "execution_count": 6,
   "metadata": {},
   "outputs": [
    {
     "name": "stdout",
     "output_type": "stream",
     "text": [
      "<class 'pandas.core.frame.DataFrame'>\n",
      "Int64Index: 2048 entries, 0 to 6100\n",
      "Data columns (total 11 columns):\n",
      " #   Column       Non-Null Count  Dtype  \n",
      "---  ------       --------------  -----  \n",
      " 0   winery       2048 non-null   object \n",
      " 1   wine         2048 non-null   object \n",
      " 2   year         2046 non-null   object \n",
      " 3   rating       2048 non-null   float64\n",
      " 4   num_reviews  2048 non-null   int64  \n",
      " 5   country      2048 non-null   object \n",
      " 6   region       2048 non-null   object \n",
      " 7   price        2048 non-null   float64\n",
      " 8   type         1942 non-null   object \n",
      " 9   body         1777 non-null   float64\n",
      " 10  acidity      1777 non-null   float64\n",
      "dtypes: float64(4), int64(1), object(6)\n",
      "memory usage: 192.0+ KB\n"
     ]
    }
   ],
   "source": [
    "vinos.info()"
   ]
  },
  {
   "cell_type": "code",
   "execution_count": 7,
   "metadata": {},
   "outputs": [
    {
     "data": {
      "text/plain": [
       "array(['2013', '2018', '2009', '1999', '1996', '1998', '2010', '1995',\n",
       "       '2015', '2011', '2016', '1970', '1946', '1962', '2019', '2004',\n",
       "       'N.V.', '1931', '1979', '2005', '2020', '2014', '1985', '1929',\n",
       "       '2007', '2012', '2017', '2008', nan, '2006', '2000', '2003',\n",
       "       '2002', '1991', '1994', '1990', '1989', '1987', '1986', '1981',\n",
       "       '2001', '1968', '1964', '1982', '1974', '1983', '1955', '1980',\n",
       "       '1972', '1953', '1958', '1942', '1965', '1992', '1973', '1997',\n",
       "       '1967', '1975', '1910', '1961', '1954', '1988', '1969', '1951',\n",
       "       '1928', '1976', '1949', '2021', '1959', '1922', '1978', '1925'],\n",
       "      dtype=object)"
      ]
     },
     "execution_count": 7,
     "metadata": {},
     "output_type": "execute_result"
    }
   ],
   "source": [
    "vinos['year'].unique()"
   ]
  },
  {
   "cell_type": "markdown",
   "metadata": {},
   "source": [
    "<font color='violet'> En los vinos de Jerez no hay añada. Sale como N.V. 🧐​"
   ]
  },
  {
   "cell_type": "markdown",
   "metadata": {},
   "source": [
    "<font color='violet'> Eliminamos los valores duplicados y comprobamos."
   ]
  },
  {
   "cell_type": "code",
   "execution_count": 8,
   "metadata": {},
   "outputs": [
    {
     "data": {
      "text/plain": [
       "0"
      ]
     },
     "execution_count": 8,
     "metadata": {},
     "output_type": "execute_result"
    }
   ],
   "source": [
    "vinos.duplicated().sum()"
   ]
  },
  {
   "cell_type": "code",
   "execution_count": 9,
   "metadata": {},
   "outputs": [
    {
     "data": {
      "text/plain": [
       "0"
      ]
     },
     "execution_count": 9,
     "metadata": {},
     "output_type": "execute_result"
    }
   ],
   "source": [
    "vinos = vinos.drop_duplicates()\n",
    "vinos.duplicated().sum()"
   ]
  },
  {
   "cell_type": "markdown",
   "metadata": {},
   "source": [
    "<font color='violet'>  Dividimos las variables en numéricas y categóricas"
   ]
  },
  {
   "cell_type": "code",
   "execution_count": 6,
   "metadata": {},
   "outputs": [
    {
     "data": {
      "text/html": [
       "<div>\n",
       "<style scoped>\n",
       "    .dataframe tbody tr th:only-of-type {\n",
       "        vertical-align: middle;\n",
       "    }\n",
       "\n",
       "    .dataframe tbody tr th {\n",
       "        vertical-align: top;\n",
       "    }\n",
       "\n",
       "    .dataframe thead th {\n",
       "        text-align: right;\n",
       "    }\n",
       "</style>\n",
       "<table border=\"1\" class=\"dataframe\">\n",
       "  <thead>\n",
       "    <tr style=\"text-align: right;\">\n",
       "      <th></th>\n",
       "      <th>winery</th>\n",
       "      <th>wine</th>\n",
       "      <th>year</th>\n",
       "      <th>country</th>\n",
       "      <th>region</th>\n",
       "      <th>type</th>\n",
       "    </tr>\n",
       "  </thead>\n",
       "  <tbody>\n",
       "    <tr>\n",
       "      <th>0</th>\n",
       "      <td>Teso La Monja</td>\n",
       "      <td>Tinto</td>\n",
       "      <td>2013</td>\n",
       "      <td>Espana</td>\n",
       "      <td>Toro</td>\n",
       "      <td>Toro Red</td>\n",
       "    </tr>\n",
       "    <tr>\n",
       "      <th>1</th>\n",
       "      <td>Artadi</td>\n",
       "      <td>Vina El Pison</td>\n",
       "      <td>2018</td>\n",
       "      <td>Espana</td>\n",
       "      <td>Vino de Espana</td>\n",
       "      <td>Tempranillo</td>\n",
       "    </tr>\n",
       "    <tr>\n",
       "      <th>2</th>\n",
       "      <td>Vega Sicilia</td>\n",
       "      <td>Unico</td>\n",
       "      <td>2009</td>\n",
       "      <td>Espana</td>\n",
       "      <td>Ribera del Duero</td>\n",
       "      <td>Ribera Del Duero Red</td>\n",
       "    </tr>\n",
       "    <tr>\n",
       "      <th>3</th>\n",
       "      <td>Vega Sicilia</td>\n",
       "      <td>Unico</td>\n",
       "      <td>1999</td>\n",
       "      <td>Espana</td>\n",
       "      <td>Ribera del Duero</td>\n",
       "      <td>Ribera Del Duero Red</td>\n",
       "    </tr>\n",
       "    <tr>\n",
       "      <th>4</th>\n",
       "      <td>Vega Sicilia</td>\n",
       "      <td>Unico</td>\n",
       "      <td>1996</td>\n",
       "      <td>Espana</td>\n",
       "      <td>Ribera del Duero</td>\n",
       "      <td>Ribera Del Duero Red</td>\n",
       "    </tr>\n",
       "  </tbody>\n",
       "</table>\n",
       "</div>"
      ],
      "text/plain": [
       "          winery           wine  year country            region  \\\n",
       "0  Teso La Monja          Tinto  2013  Espana              Toro   \n",
       "1         Artadi  Vina El Pison  2018  Espana    Vino de Espana   \n",
       "2   Vega Sicilia          Unico  2009  Espana  Ribera del Duero   \n",
       "3   Vega Sicilia          Unico  1999  Espana  Ribera del Duero   \n",
       "4   Vega Sicilia          Unico  1996  Espana  Ribera del Duero   \n",
       "\n",
       "                   type  \n",
       "0              Toro Red  \n",
       "1           Tempranillo  \n",
       "2  Ribera Del Duero Red  \n",
       "3  Ribera Del Duero Red  \n",
       "4  Ribera Del Duero Red  "
      ]
     },
     "execution_count": 6,
     "metadata": {},
     "output_type": "execute_result"
    }
   ],
   "source": [
    "categoricas = vinos.select_dtypes(include = \"object\")\n",
    "categoricas.head()"
   ]
  },
  {
   "cell_type": "code",
   "execution_count": 7,
   "metadata": {},
   "outputs": [
    {
     "data": {
      "text/html": [
       "<div>\n",
       "<style scoped>\n",
       "    .dataframe tbody tr th:only-of-type {\n",
       "        vertical-align: middle;\n",
       "    }\n",
       "\n",
       "    .dataframe tbody tr th {\n",
       "        vertical-align: top;\n",
       "    }\n",
       "\n",
       "    .dataframe thead th {\n",
       "        text-align: right;\n",
       "    }\n",
       "</style>\n",
       "<table border=\"1\" class=\"dataframe\">\n",
       "  <thead>\n",
       "    <tr style=\"text-align: right;\">\n",
       "      <th></th>\n",
       "      <th>rating</th>\n",
       "      <th>num_reviews</th>\n",
       "      <th>price</th>\n",
       "      <th>body</th>\n",
       "      <th>acidity</th>\n",
       "    </tr>\n",
       "  </thead>\n",
       "  <tbody>\n",
       "    <tr>\n",
       "      <th>0</th>\n",
       "      <td>4.9</td>\n",
       "      <td>58</td>\n",
       "      <td>995.00</td>\n",
       "      <td>5.0</td>\n",
       "      <td>3.0</td>\n",
       "    </tr>\n",
       "    <tr>\n",
       "      <th>1</th>\n",
       "      <td>4.9</td>\n",
       "      <td>31</td>\n",
       "      <td>313.50</td>\n",
       "      <td>4.0</td>\n",
       "      <td>2.0</td>\n",
       "    </tr>\n",
       "    <tr>\n",
       "      <th>2</th>\n",
       "      <td>4.8</td>\n",
       "      <td>1793</td>\n",
       "      <td>324.95</td>\n",
       "      <td>5.0</td>\n",
       "      <td>3.0</td>\n",
       "    </tr>\n",
       "    <tr>\n",
       "      <th>3</th>\n",
       "      <td>4.8</td>\n",
       "      <td>1705</td>\n",
       "      <td>692.96</td>\n",
       "      <td>5.0</td>\n",
       "      <td>3.0</td>\n",
       "    </tr>\n",
       "    <tr>\n",
       "      <th>4</th>\n",
       "      <td>4.8</td>\n",
       "      <td>1309</td>\n",
       "      <td>778.06</td>\n",
       "      <td>5.0</td>\n",
       "      <td>3.0</td>\n",
       "    </tr>\n",
       "  </tbody>\n",
       "</table>\n",
       "</div>"
      ],
      "text/plain": [
       "   rating  num_reviews   price  body  acidity\n",
       "0     4.9           58  995.00   5.0      3.0\n",
       "1     4.9           31  313.50   4.0      2.0\n",
       "2     4.8         1793  324.95   5.0      3.0\n",
       "3     4.8         1705  692.96   5.0      3.0\n",
       "4     4.8         1309  778.06   5.0      3.0"
      ]
     },
     "execution_count": 7,
     "metadata": {},
     "output_type": "execute_result"
    }
   ],
   "source": [
    "numericas = vinos.select_dtypes(exclude='object')\n",
    "numericas.head()"
   ]
  },
  {
   "cell_type": "markdown",
   "metadata": {},
   "source": [
    "<font color='violet'> Vamos a investigar los outliers"
   ]
  },
  {
   "cell_type": "code",
   "execution_count": 10,
   "metadata": {},
   "outputs": [],
   "source": [
    "def detectar_outliers(lista_columnas, df): \n",
    "    \n",
    "    dicc_indices = {} # creamos un diccionario donde almacenaremos índices de los outliers\n",
    "    \n",
    "    # iteramos por la lista de las columnas numéricas de nuestro dataframe\n",
    "    for col in lista_columnas:\n",
    "        \n",
    "        #calculamos los cuartiles Q1 y Q3\n",
    "        Q1 = np.nanpercentile(df[col], 25)\n",
    "        Q3 = np.nanpercentile(df[col], 75)\n",
    "        \n",
    "        # calculamos rango intercuartil\n",
    "        IQR = Q3 - Q1\n",
    "        \n",
    "        # calculamos los límites\n",
    "        outlier_step = 1.5 * IQR\n",
    "        \n",
    "        # filtramos nuestro df para indentificar los outliers\n",
    "        outliers_data = df[(df[col] < Q1 - outlier_step) | (df[col] > Q3 + outlier_step)]\n",
    "        \n",
    "        \n",
    "        if outliers_data.shape[0] > 0: # chequeamos si nuestro df tiene alguna fila. \n",
    "        \n",
    "            dicc_indices[col] = (list(outliers_data.index)) # si tiene fila es que hay outliers y por lo tanto lo añadimos a nuestro diccionario\n",
    "        \n",
    "    return dicc_indices "
   ]
  },
  {
   "cell_type": "code",
   "execution_count": 9,
   "metadata": {},
   "outputs": [
    {
     "data": {
      "text/plain": [
       "Index(['winery', 'wine', 'year', 'rating', 'num_reviews', 'country', 'region',\n",
       "       'price', 'type', 'body', 'acidity'],\n",
       "      dtype='object')"
      ]
     },
     "execution_count": 9,
     "metadata": {},
     "output_type": "execute_result"
    }
   ],
   "source": [
    "numericas.columns"
   ]
  },
  {
   "cell_type": "code",
   "execution_count": 14,
   "metadata": {},
   "outputs": [
    {
     "name": "stdout",
     "output_type": "stream",
     "text": [
      "Para la variable rating tenemos 2 valores outliers,  esto es un 0%\\ de los datos\n",
      "Para la variable num_reviews tenemos 242 valores outliers,  esto es un 12%\\ de los datos\n",
      "Para la variable price tenemos 245 valores outliers,  esto es un 12%\\ de los datos\n",
      "Para la variable body tenemos 34 valores outliers,  esto es un 2%\\ de los datos\n",
      "Para la variable acidity tenemos 105 valores outliers,  esto es un 5%\\ de los datos\n"
     ]
    }
   ],
   "source": [
    "lista_columnas = list(numericas.columns)\n",
    "\n",
    "ind = detectar_outliers(lista_columnas, vinos)\n",
    "# vemos que es lo que nos ha devuelto la función\n",
    "for key, values in ind.items():\n",
    "    print('Para la variable ' + key  + ' tenemos ' + str(len(values)) +' valores outliers,  esto es un ' + str(round(len(values)/vinos.shape[0]*100)) + '%\\ de los datos' )"
   ]
  },
  {
   "cell_type": "code",
   "execution_count": 16,
   "metadata": {},
   "outputs": [
    {
     "data": {
      "text/html": [
       "<div>\n",
       "<style scoped>\n",
       "    .dataframe tbody tr th:only-of-type {\n",
       "        vertical-align: middle;\n",
       "    }\n",
       "\n",
       "    .dataframe tbody tr th {\n",
       "        vertical-align: top;\n",
       "    }\n",
       "\n",
       "    .dataframe thead th {\n",
       "        text-align: right;\n",
       "    }\n",
       "</style>\n",
       "<table border=\"1\" class=\"dataframe\">\n",
       "  <thead>\n",
       "    <tr style=\"text-align: right;\">\n",
       "      <th></th>\n",
       "      <th>rating</th>\n",
       "      <th>num_reviews</th>\n",
       "      <th>price</th>\n",
       "      <th>body</th>\n",
       "      <th>acidity</th>\n",
       "    </tr>\n",
       "  </thead>\n",
       "  <tbody>\n",
       "    <tr>\n",
       "      <th>count</th>\n",
       "      <td>2048.000000</td>\n",
       "      <td>2048.000000</td>\n",
       "      <td>2048.000000</td>\n",
       "      <td>1777.000000</td>\n",
       "      <td>1777.000000</td>\n",
       "    </tr>\n",
       "    <tr>\n",
       "      <th>mean</th>\n",
       "      <td>4.401123</td>\n",
       "      <td>573.994629</td>\n",
       "      <td>135.242194</td>\n",
       "      <td>4.258863</td>\n",
       "      <td>2.921216</td>\n",
       "    </tr>\n",
       "    <tr>\n",
       "      <th>std</th>\n",
       "      <td>0.147023</td>\n",
       "      <td>1376.153171</td>\n",
       "      <td>272.178316</td>\n",
       "      <td>0.652836</td>\n",
       "      <td>0.334713</td>\n",
       "    </tr>\n",
       "    <tr>\n",
       "      <th>min</th>\n",
       "      <td>4.200000</td>\n",
       "      <td>25.000000</td>\n",
       "      <td>4.990000</td>\n",
       "      <td>2.000000</td>\n",
       "      <td>1.000000</td>\n",
       "    </tr>\n",
       "    <tr>\n",
       "      <th>25%</th>\n",
       "      <td>4.300000</td>\n",
       "      <td>58.000000</td>\n",
       "      <td>31.917947</td>\n",
       "      <td>4.000000</td>\n",
       "      <td>3.000000</td>\n",
       "    </tr>\n",
       "    <tr>\n",
       "      <th>50%</th>\n",
       "      <td>4.400000</td>\n",
       "      <td>141.000000</td>\n",
       "      <td>53.625000</td>\n",
       "      <td>4.000000</td>\n",
       "      <td>3.000000</td>\n",
       "    </tr>\n",
       "    <tr>\n",
       "      <th>75%</th>\n",
       "      <td>4.500000</td>\n",
       "      <td>485.500000</td>\n",
       "      <td>110.000000</td>\n",
       "      <td>5.000000</td>\n",
       "      <td>3.000000</td>\n",
       "    </tr>\n",
       "    <tr>\n",
       "      <th>max</th>\n",
       "      <td>4.900000</td>\n",
       "      <td>32624.000000</td>\n",
       "      <td>3119.080000</td>\n",
       "      <td>5.000000</td>\n",
       "      <td>3.000000</td>\n",
       "    </tr>\n",
       "  </tbody>\n",
       "</table>\n",
       "</div>"
      ],
      "text/plain": [
       "            rating   num_reviews        price         body      acidity\n",
       "count  2048.000000   2048.000000  2048.000000  1777.000000  1777.000000\n",
       "mean      4.401123    573.994629   135.242194     4.258863     2.921216\n",
       "std       0.147023   1376.153171   272.178316     0.652836     0.334713\n",
       "min       4.200000     25.000000     4.990000     2.000000     1.000000\n",
       "25%       4.300000     58.000000    31.917947     4.000000     3.000000\n",
       "50%       4.400000    141.000000    53.625000     4.000000     3.000000\n",
       "75%       4.500000    485.500000   110.000000     5.000000     3.000000\n",
       "max       4.900000  32624.000000  3119.080000     5.000000     3.000000"
      ]
     },
     "execution_count": 16,
     "metadata": {},
     "output_type": "execute_result"
    }
   ],
   "source": [
    "numericas.describe()"
   ]
  },
  {
   "cell_type": "markdown",
   "metadata": {},
   "source": [
    "<font color='violet'> Vemos que tenemos muchos outliers pero que son relevantes para nuestros datos, es decir, el hecho de haya tantos outliers en la variable `price` es muy posible porque el precio que se le da a un producto parece bastante arbitrario(o fuera de nuestro objetivo)"
   ]
  },
  {
   "cell_type": "markdown",
   "metadata": {},
   "source": [
    "<font color='violet'> La variable `num_reviews` y su alta cantidad de outliers solo indica que ha habido vinos muy comentados, por ejemplo, podrían ser más famosos. Este tipo de información no podemos valorarla, entonces dejamos los outliers porque representan la realidad de los vinos."
   ]
  },
  {
   "cell_type": "markdown",
   "metadata": {},
   "source": [
    "<font color='violet'>  Vamos a investigar los valores nulos"
   ]
  },
  {
   "cell_type": "code",
   "execution_count": 38,
   "metadata": {},
   "outputs": [
    {
     "data": {
      "text/plain": [
       "(2048, 12)"
      ]
     },
     "execution_count": 38,
     "metadata": {},
     "output_type": "execute_result"
    }
   ],
   "source": [
    "vinos.shape"
   ]
  },
  {
   "cell_type": "code",
   "execution_count": 39,
   "metadata": {},
   "outputs": [
    {
     "data": {
      "text/plain": [
       "winery             0.000000\n",
       "wine               0.000000\n",
       "year               0.097656\n",
       "rating             0.000000\n",
       "num_reviews        0.000000\n",
       "country            0.000000\n",
       "region             0.000000\n",
       "price              0.000000\n",
       "type               5.175781\n",
       "body              13.232422\n",
       "acidity           13.232422\n",
       "price_interval     0.000000\n",
       "dtype: float64"
      ]
     },
     "execution_count": 39,
     "metadata": {},
     "output_type": "execute_result"
    }
   ],
   "source": [
    "vinos_missing = vinos.isnull().sum() * 100 / len(vinos)\n",
    "vinos_missing"
   ]
  },
  {
   "cell_type": "code",
   "execution_count": 21,
   "metadata": {},
   "outputs": [
    {
     "data": {
      "text/plain": [
       "(2048, 11)"
      ]
     },
     "execution_count": 21,
     "metadata": {},
     "output_type": "execute_result"
    }
   ],
   "source": [
    "vinos.shape"
   ]
  },
  {
   "cell_type": "markdown",
   "metadata": {},
   "source": [
    "<font color='violet'> Vamos a a hacer un análisis exploratorio gráfico. Elegimos como variable dependiente el precio y como variable independiente la añada. "
   ]
  },
  {
   "cell_type": "code",
   "execution_count": 9,
   "metadata": {},
   "outputs": [
    {
     "data": {
      "text/plain": [
       "Text(0, 0.5, 'Nº de vinos')"
      ]
     },
     "execution_count": 9,
     "metadata": {},
     "output_type": "execute_result"
    },
    {
     "data": {
      "image/png": "[encoded data removed]",
      "text/plain": [
       "<Figure size 1800x576 with 1 Axes>"
      ]
     },
     "metadata": {
      "needs_background": "light"
     },
     "output_type": "display_data"
    }
   ],
   "source": [
    "fig_dims = (25, 8)\n",
    "fig, ax = plt.subplots(figsize=fig_dims)\n",
    "plt.xticks(rotation=90)\n",
    "sns.countplot(x=\"region\", data=vinos, palette=\"rocket\",order = vinos['region'].value_counts().index).set(title='Nº de vinos por región');\n",
    "plt.xlabel(\"Regiones\")\n",
    "plt.ylabel(\"Nº de vinos\")"
   ]
  },
  {
   "cell_type": "code",
   "execution_count": 50,
   "metadata": {},
   "outputs": [
    {
     "data": {
      "text/plain": [
       "Text(0, 0.5, 'Nº de vinos')"
      ]
     },
     "execution_count": 50,
     "metadata": {},
     "output_type": "execute_result"
    },
    {
     "data": {
      "image/png": "[encoded data removed]",
      "text/plain": [
       "<Figure size 1800x576 with 1 Axes>"
      ]
     },
     "metadata": {
      "needs_background": "light"
     },
     "output_type": "display_data"
    }
   ],
   "source": [
    "fig_dims = (25, 8)\n",
    "fig, ax = plt.subplots(figsize=fig_dims)\n",
    "plt.xticks(rotation=45)\n",
    "sns.countplot(x=\"type\", data=vinos, palette=\"rocket\", order = vinos['type'].value_counts().index).set(title='Nº de vinos según su tipo');\n",
    "plt.xlabel(\"Tipos de vino\")\n",
    "plt.ylabel(\"Nº de vinos\")"
   ]
  },
  {
   "cell_type": "code",
   "execution_count": 21,
   "metadata": {},
   "outputs": [
    {
     "data": {
      "text/plain": [
       "Text(0, 0.5, 'Nº de vinos')"
      ]
     },
     "execution_count": 21,
     "metadata": {},
     "output_type": "execute_result"
    },
    {
     "data": {
      "image/png": "[encoded data removed]",
      "text/plain": [
       "<Figure size 1800x576 with 1 Axes>"
      ]
     },
     "metadata": {
      "needs_background": "light"
     },
     "output_type": "display_data"
    }
   ],
   "source": [
    "fig_dims = (25, 8)\n",
    "fig, ax = plt.subplots(figsize=fig_dims)\n",
    "plt.xticks(rotation=45)\n",
    "sns.countplot(x=\"year\", data=vinos, palette=\"rocket\", order = vinos['year'].value_counts().index).set(title='Nº de vinos según sus añadas');\n",
    "plt.xlabel(\"Añadas\")\n",
    "plt.ylabel(\"Nº de vinos\")"
   ]
  },
  {
   "cell_type": "markdown",
   "metadata": {},
   "source": [
    "<font color = 'violet'> En esta gráfica podemos ver la cantidad de vinos que hay por año. Recordamos que el año \"N.V.\" son los vinos de Jerez."
   ]
  },
  {
   "cell_type": "markdown",
   "metadata": {},
   "source": [
    "<font color = 'violet'> Graficamos cuántos vinos hay según intervalos de precio"
   ]
  },
  {
   "cell_type": "code",
   "execution_count": 51,
   "metadata": {},
   "outputs": [
    {
     "data": {
      "text/html": [
       "<div>\n",
       "<style scoped>\n",
       "    .dataframe tbody tr th:only-of-type {\n",
       "        vertical-align: middle;\n",
       "    }\n",
       "\n",
       "    .dataframe tbody tr th {\n",
       "        vertical-align: top;\n",
       "    }\n",
       "\n",
       "    .dataframe thead th {\n",
       "        text-align: right;\n",
       "    }\n",
       "</style>\n",
       "<table border=\"1\" class=\"dataframe\">\n",
       "  <thead>\n",
       "    <tr style=\"text-align: right;\">\n",
       "      <th></th>\n",
       "      <th>winery</th>\n",
       "      <th>wine</th>\n",
       "      <th>year</th>\n",
       "      <th>rating</th>\n",
       "      <th>num_reviews</th>\n",
       "      <th>country</th>\n",
       "      <th>region</th>\n",
       "      <th>price</th>\n",
       "      <th>type</th>\n",
       "      <th>body</th>\n",
       "      <th>acidity</th>\n",
       "      <th>price_interval</th>\n",
       "    </tr>\n",
       "  </thead>\n",
       "  <tbody>\n",
       "    <tr>\n",
       "      <th>0</th>\n",
       "      <td>Teso La Monja</td>\n",
       "      <td>Tinto</td>\n",
       "      <td>2013</td>\n",
       "      <td>4.9</td>\n",
       "      <td>58</td>\n",
       "      <td>Espana</td>\n",
       "      <td>Toro</td>\n",
       "      <td>995.0</td>\n",
       "      <td>Toro Red</td>\n",
       "      <td>5.0</td>\n",
       "      <td>3.0</td>\n",
       "      <td>(939.2, 1250.6]</td>\n",
       "    </tr>\n",
       "    <tr>\n",
       "      <th>1</th>\n",
       "      <td>Artadi</td>\n",
       "      <td>Vina El Pison</td>\n",
       "      <td>2018</td>\n",
       "      <td>4.9</td>\n",
       "      <td>31</td>\n",
       "      <td>Espana</td>\n",
       "      <td>Vino de Espana</td>\n",
       "      <td>313.5</td>\n",
       "      <td>Tempranillo</td>\n",
       "      <td>4.0</td>\n",
       "      <td>2.0</td>\n",
       "      <td>(1.9, 316.4]</td>\n",
       "    </tr>\n",
       "  </tbody>\n",
       "</table>\n",
       "</div>"
      ],
      "text/plain": [
       "          winery           wine  year  rating  num_reviews country  \\\n",
       "0  Teso La Monja          Tinto  2013     4.9           58  Espana   \n",
       "1         Artadi  Vina El Pison  2018     4.9           31  Espana   \n",
       "\n",
       "           region  price         type  body  acidity   price_interval  \n",
       "0            Toro  995.0     Toro Red   5.0      3.0  (939.2, 1250.6]  \n",
       "1  Vino de Espana  313.5  Tempranillo   4.0      2.0     (1.9, 316.4]  "
      ]
     },
     "execution_count": 51,
     "metadata": {},
     "output_type": "execute_result"
    }
   ],
   "source": [
    "vinos[\"price_interval\"]= pd.cut(vinos[\"price\"], bins = 10, right= True, ordered=True, precision=1)\n",
    "vinos.head(2)"
   ]
  },
  {
   "cell_type": "code",
   "execution_count": 52,
   "metadata": {},
   "outputs": [
    {
     "data": {
      "image/png": "[encoded data removed]",
      "text/plain": [
       "<Figure size 1800x576 with 1 Axes>"
      ]
     },
     "metadata": {
      "needs_background": "light"
     },
     "output_type": "display_data"
    }
   ],
   "source": [
    "fig_dims = (25, 8)\n",
    "fig, ax = plt.subplots(figsize=fig_dims)\n",
    "plt.xticks(rotation=45)\n",
    "sns.countplot(x=\"price_interval\", data=vinos, palette=\"rocket\").set(title='Tipos de vino');"
   ]
  },
  {
   "cell_type": "markdown",
   "metadata": {},
   "source": [
    "#### 3. Realiza el ajuste lineal simple utilizando diversas métricas y realiza una gráfica mostrando los resultados."
   ]
  },
  {
   "cell_type": "markdown",
   "metadata": {},
   "source": [
    "<font color='violet'> Para este ejercicio hemos elegido las variables 'price' y 'num_reviews'."
   ]
  },
  {
   "cell_type": "code",
   "execution_count": 53,
   "metadata": {},
   "outputs": [
    {
     "data": {
      "image/png": "[encoded data removed]",
      "text/plain": [
       "<Figure size 1800x576 with 1 Axes>"
      ]
     },
     "metadata": {
      "needs_background": "light"
     },
     "output_type": "display_data"
    }
   ],
   "source": [
    "fig_dims = (25, 8)\n",
    "fig, ax = plt.subplots(figsize=fig_dims)\n",
    "plt.xticks(rotation=45)\n",
    "sns.scatterplot(x=\"price\", y = 'num_reviews', data=vinos, palette=\"rocket\");"
   ]
  },
  {
   "cell_type": "code",
   "execution_count": 54,
   "metadata": {},
   "outputs": [],
   "source": [
    "x=vinos['num_reviews'].values.reshape(-1, 1)\n",
    "y= vinos['price'].values.reshape(-1, 1)"
   ]
  },
  {
   "cell_type": "code",
   "execution_count": 55,
   "metadata": {},
   "outputs": [],
   "source": [
    "x_train, x_test, y_train, y_test = train_test_split(x, y, test_size = 0.2, random_state = 42) "
   ]
  },
  {
   "cell_type": "code",
   "execution_count": 27,
   "metadata": {},
   "outputs": [],
   "source": [
    "x_train, x_test, y_train, y_test = train_test_split(x, y, test_size = 0.2, random_state = 42) \n",
    "LR = LinearRegression(n_jobs=-1)\n",
    "LR.fit(x_train, y_train)\n",
    "y_predict_train = LR.predict(x_train)\n",
    "y_prediction = LR.predict(x_test)"
   ]
  },
  {
   "cell_type": "markdown",
   "metadata": {},
   "source": [
    "<font color='violet'> Después de haber generado el modelo con nuestros datos separados en entrenamiento y testeo, vamos a representarlo gráficamente"
   ]
  },
  {
   "cell_type": "code",
   "execution_count": 56,
   "metadata": {},
   "outputs": [
    {
     "data": {
      "image/png": "[encoded data removed]",
      "text/plain": [
       "<Figure size 432x288 with 1 Axes>"
      ]
     },
     "metadata": {
      "needs_background": "light"
     },
     "output_type": "display_data"
    }
   ],
   "source": [
    "plt.scatter(x_test,y_test,color=\"blue\")  \n",
    "plt.plot(x_test,y_prediction,color=\"red\",linewidth=3) \n",
    "plt.title('Regresión (Conjunto de entrenamiento)')\n",
    "plt.xlabel('Cantidad de reviews')\n",
    "plt.ylabel('Precio del vino')\n",
    "plt.show()"
   ]
  },
  {
   "cell_type": "markdown",
   "metadata": {},
   "source": [
    "<font color='violet'> Calculamos analíticamente las métricas de nuestro modelo"
   ]
  },
  {
   "cell_type": "code",
   "execution_count": 57,
   "metadata": {},
   "outputs": [
    {
     "name": "stdout",
     "output_type": "stream",
     "text": [
      "Para el conjunto train:---------------\n",
      "El valor de r2 score es  0.004051299071089254\n",
      "El MAE es 137.89015910758374\n",
      "El MSE es 73030.72252376835\n",
      "EL RMSE es  270.24197032246553\n",
      "Para el conjunto test:---------------\n",
      "El valor de r2 score es  0.004902316520782102\n",
      "El MAE es 128.7428316090749\n",
      "El MSE es 76523.35057566763\n",
      "EL RMSE es  276.62854259036186\n"
     ]
    }
   ],
   "source": [
    "print('Para el conjunto train:---------------')\n",
    "print('El valor de r2 score es ',r2_score(y_train,y_predict_train))\n",
    "print('El MAE es',mean_absolute_error(y_train,y_predict_train))\n",
    "print('El MSE es',mean_squared_error(y_train,y_predict_train))\n",
    "print('EL RMSE es ',np.sqrt(mean_squared_error(y_train,y_predict_train)))\n",
    "\n",
    "\n",
    "print('Para el conjunto test:---------------')\n",
    "print('El valor de r2 score es ',r2_score(y_test,y_prediction))\n",
    "print('El MAE es',mean_absolute_error(y_test,y_prediction))\n",
    "print('El MSE es',mean_squared_error(y_test,y_prediction))\n",
    "print('EL RMSE es ',np.sqrt(mean_squared_error(y_test,y_prediction)))"
   ]
  },
  {
   "cell_type": "markdown",
   "metadata": {},
   "source": [
    "<font color='violet'>  Podemos observar que la bondad de ajuste es muy baja. Vemos que el R2 es prácticamente 0, lo que quiere decir que nuestro modelo no predice nuestros datos porque no es representativo. Nuestro modelo no explica cómo varia nuestra v. respuesta. Tendremos que escoger otro tipo de modelo para modelar nuestros datos"
   ]
  },
  {
   "cell_type": "markdown",
   "metadata": {},
   "source": [
    "<font color='violet'> El MAE, MSE y RMSE evalúan el modelo de regresión que hemos generado. En general, podremos decir que a valores más pequeños, nuestro modelo de regresión es mejor. Podemos comprobar con nuestros resultados que los tres son valores bastante altos, lo que concuerda con el valor de R2 y con la conclusión de que debemos escoger otro modelo."
   ]
  },
  {
   "cell_type": "markdown",
   "metadata": {},
   "source": [
    "#### 4. Interpretación de los resultados.\n",
    "Ahora interpreta los resultados obtenidos del ajuste lineal simple y explica lo mejor posible la naturaleza de los mismos."
   ]
  },
  {
   "cell_type": "markdown",
   "metadata": {},
   "source": [
    "<font color='violet'> Hemos interpretado los resultados a lo largo de todo el cógido."
   ]
  },
  {
   "cell_type": "markdown",
   "metadata": {},
   "source": [
    "<font color='violet'> Ahora vamos a intentar modelar las variables `precio` y `rating`"
   ]
  },
  {
   "cell_type": "code",
   "execution_count": 58,
   "metadata": {},
   "outputs": [
    {
     "data": {
      "image/png": "[encoded data removed]",
      "text/plain": [
       "<Figure size 1800x576 with 1 Axes>"
      ]
     },
     "metadata": {
      "needs_background": "light"
     },
     "output_type": "display_data"
    }
   ],
   "source": [
    "fig_dims = (25, 8)\n",
    "fig, ax = plt.subplots(figsize=fig_dims)\n",
    "plt.xticks(rotation=45)\n",
    "sns.scatterplot(x=\"price\", y = 'rating', data=vinos, palette=\"rocket\");"
   ]
  },
  {
   "cell_type": "code",
   "execution_count": 59,
   "metadata": {},
   "outputs": [],
   "source": [
    "x1=vinos['rating'].values.reshape(-1, 1)\n",
    "y1= vinos['price'].values.reshape(-1, 1)"
   ]
  },
  {
   "cell_type": "code",
   "execution_count": 60,
   "metadata": {},
   "outputs": [],
   "source": [
    "x1_train, x1_test, y1_train, y1_test = train_test_split(x1, y1, test_size = 0.2, random_state = 42) "
   ]
  },
  {
   "cell_type": "code",
   "execution_count": 61,
   "metadata": {},
   "outputs": [],
   "source": [
    "\n",
    "LR1 = LinearRegression(n_jobs=-1)\n",
    "LR1.fit(x1_train, y1_train)\n",
    "y1_predict_train = LR1.predict(x1_train)\n",
    "y1_prediction = LR1.predict(x1_test)"
   ]
  },
  {
   "cell_type": "code",
   "execution_count": 62,
   "metadata": {},
   "outputs": [
    {
     "data": {
      "image/png": "[encoded data removed]",
      "text/plain": [
       "<Figure size 432x288 with 1 Axes>"
      ]
     },
     "metadata": {
      "needs_background": "light"
     },
     "output_type": "display_data"
    }
   ],
   "source": [
    "plt.scatter(x1_test,y1_test,color=\"blue\")  \n",
    "plt.plot(x1_test,y1_prediction,color=\"red\",linewidth=3) \n",
    "plt.title('Regresión (Conjunto de entrenamiento)')\n",
    "plt.xlabel('Rating del vino')\n",
    "plt.ylabel('Precio del vino')\n",
    "plt.show()"
   ]
  },
  {
   "cell_type": "code",
   "execution_count": 67,
   "metadata": {},
   "outputs": [
    {
     "name": "stdout",
     "output_type": "stream",
     "text": [
      "Para el conjunto train:---------------\n",
      "El valor de r2 score es  0.27561736516483626\n",
      "El MAE es 120.95031022453942\n",
      "El MSE es 53117.381604435795\n",
      "EL RMSE es  230.47208421940346\n",
      "Para el conjunto test:---------------\n",
      "El valor de r2 score es  0.18656209145229496\n",
      "El MAE es 123.57816373879922\n",
      "El MSE es 62553.652049209995\n",
      "EL RMSE es  250.10728107995976\n"
     ]
    }
   ],
   "source": [
    "print('Para el conjunto train:---------------')\n",
    "print('El valor de r2 score es ',r2_score(y1_train,y1_predict_train))\n",
    "print('El MAE es',mean_absolute_error(y1_train,y1_predict_train))\n",
    "print('El MSE es',mean_squared_error(y1_train,y1_predict_train))\n",
    "print('EL RMSE es ',np.sqrt(mean_squared_error(y1_train,y1_predict_train)))\n",
    "\n",
    "\n",
    "print('Para el conjunto test:---------------')\n",
    "print('El valor de r2 score es ',r2_score(y1_test,y1_prediction))\n",
    "print('El MAE es',mean_absolute_error(y1_test,y1_prediction))\n",
    "print('El MSE es',mean_squared_error(y1_test,y1_prediction))\n",
    "print('EL RMSE es ',np.sqrt(mean_squared_error(y1_test,y1_prediction)))"
   ]
  },
  {
   "cell_type": "markdown",
   "metadata": {},
   "source": [
    "<font color='violet'> Podemos observar que en este caso nuestro R2 ha aumentado comparado con el de modelo con las variables `price` y `num_reviews` , lo que implica una mejora del modelo. Nuestro modelo explica un poco más las variaciones de nuestros datos."
   ]
  },
  {
   "cell_type": "markdown",
   "metadata": {},
   "source": [
    "<font color='violet'> Las métricas de MAE, MSE y RMSE han variado respecto del modelo con las otras variables, pero siguen siendo muy altas. Esto indica que la bondad de ajuste de nuestro modelo no es adecuada."
   ]
  },
  {
   "cell_type": "code",
   "execution_count": 68,
   "metadata": {},
   "outputs": [],
   "source": [
    "# para entender un poco más las métrias MAE, MSE y RMSE : https://towardsdatascience.com/comparing-robustness-of-mae-mse-and-rmse-6d69da870828"
   ]
  }
 ],
 "metadata": {
  "interpreter": {
   "hash": "a2a25da4702e7ca1aacc8a7d4e81059851e19fd1060402175b35fae4c2a518e8"
  },
  "kernelspec": {
   "display_name": "Python 3.9.7 ('base')",
   "language": "python",
   "name": "python3"
  },
  "language_info": {
   "codemirror_mode": {
    "name": "ipython",
    "version": 3
   },
   "file_extension": ".py",
   "mimetype": "text/x-python",
   "name": "python",
   "nbconvert_exporter": "python",
   "pygments_lexer": "ipython3",
   "version": "3.9.7"
  },
  "orig_nbformat": 4,
  "vscode": {
   "interpreter": {
    "hash": "ef996a58dd4038b19127a5b342ff558a720418179ddf7c29df6339888c2ae8ac"
   }
  }
 },
 "nbformat": 4,
 "nbformat_minor": 2
}
