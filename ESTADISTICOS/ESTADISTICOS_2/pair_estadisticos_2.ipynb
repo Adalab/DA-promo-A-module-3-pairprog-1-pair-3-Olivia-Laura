{
 "cells": [
  {
   "cell_type": "code",
   "execution_count": 1,
   "metadata": {},
   "outputs": [],
   "source": [
    "import numpy as np\n",
    "import pandas as pd\n",
    "import matplotlib.pyplot as plt\n",
    "import seaborn as sns\n",
    "import sidetable"
   ]
  },
  {
   "cell_type": "markdown",
   "metadata": {},
   "source": [
    "Ejercicio 1. Pregunta teórica: ¿Qué diferencia existe entre la covarianza y la correlación?"
   ]
  },
  {
   "cell_type": "markdown",
   "metadata": {},
   "source": [
    "La covarianza indica si las variables varían en la misma dirección o no y la correlación la fuerza de la correlación entre las variables. "
   ]
  },
  {
   "cell_type": "markdown",
   "metadata": {},
   "source": [
    "Ejercicio 2. Calcula covarianza y correlación de Pearson. Interpretación."
   ]
  },
  {
   "cell_type": "code",
   "execution_count": 3,
   "metadata": {},
   "outputs": [],
   "source": [
    "df = pd.read_csv(\"listings_pair_1.csv\", index_col = 0)"
   ]
  },
  {
   "cell_type": "code",
   "execution_count": 4,
   "metadata": {},
   "outputs": [
    {
     "data": {
      "text/html": [
       "<div>\n",
       "<style scoped>\n",
       "    .dataframe tbody tr th:only-of-type {\n",
       "        vertical-align: middle;\n",
       "    }\n",
       "\n",
       "    .dataframe tbody tr th {\n",
       "        vertical-align: top;\n",
       "    }\n",
       "\n",
       "    .dataframe thead th {\n",
       "        text-align: right;\n",
       "    }\n",
       "</style>\n",
       "<table border=\"1\" class=\"dataframe\">\n",
       "  <thead>\n",
       "    <tr style=\"text-align: right;\">\n",
       "      <th></th>\n",
       "      <th>neighbourhood_group</th>\n",
       "      <th>room_type</th>\n",
       "      <th>price</th>\n",
       "      <th>minimum_nights</th>\n",
       "      <th>number_of_reviews</th>\n",
       "      <th>reviews_per_month</th>\n",
       "      <th>calculated_host_listings_count</th>\n",
       "      <th>availability_365</th>\n",
       "      <th>number_of_reviews_ltm</th>\n",
       "    </tr>\n",
       "  </thead>\n",
       "  <tbody>\n",
       "    <tr>\n",
       "      <th>0</th>\n",
       "      <td>Chamartín</td>\n",
       "      <td>Private room</td>\n",
       "      <td>59</td>\n",
       "      <td>1</td>\n",
       "      <td>81</td>\n",
       "      <td>0.57</td>\n",
       "      <td>1</td>\n",
       "      <td>149</td>\n",
       "      <td>3</td>\n",
       "    </tr>\n",
       "    <tr>\n",
       "      <th>1</th>\n",
       "      <td>Latina</td>\n",
       "      <td>Private room</td>\n",
       "      <td>31</td>\n",
       "      <td>4</td>\n",
       "      <td>33</td>\n",
       "      <td>0.38</td>\n",
       "      <td>2</td>\n",
       "      <td>131</td>\n",
       "      <td>0</td>\n",
       "    </tr>\n",
       "  </tbody>\n",
       "</table>\n",
       "</div>"
      ],
      "text/plain": [
       "  neighbourhood_group     room_type  price  minimum_nights  number_of_reviews  \\\n",
       "0           Chamartín  Private room     59               1                 81   \n",
       "1              Latina  Private room     31               4                 33   \n",
       "\n",
       "   reviews_per_month  calculated_host_listings_count  availability_365  \\\n",
       "0               0.57                               1               149   \n",
       "1               0.38                               2               131   \n",
       "\n",
       "   number_of_reviews_ltm  \n",
       "0                      3  \n",
       "1                      0  "
      ]
     },
     "execution_count": 4,
     "metadata": {},
     "output_type": "execute_result"
    }
   ],
   "source": [
    "df.head(2)"
   ]
  },
  {
   "cell_type": "code",
   "execution_count": 6,
   "metadata": {},
   "outputs": [
    {
     "data": {
      "text/html": [
       "<div>\n",
       "<style scoped>\n",
       "    .dataframe tbody tr th:only-of-type {\n",
       "        vertical-align: middle;\n",
       "    }\n",
       "\n",
       "    .dataframe tbody tr th {\n",
       "        vertical-align: top;\n",
       "    }\n",
       "\n",
       "    .dataframe thead th {\n",
       "        text-align: right;\n",
       "    }\n",
       "</style>\n",
       "<table border=\"1\" class=\"dataframe\">\n",
       "  <thead>\n",
       "    <tr style=\"text-align: right;\">\n",
       "      <th></th>\n",
       "      <th>price</th>\n",
       "      <th>minimum_nights</th>\n",
       "      <th>number_of_reviews</th>\n",
       "      <th>reviews_per_month</th>\n",
       "      <th>calculated_host_listings_count</th>\n",
       "      <th>availability_365</th>\n",
       "      <th>number_of_reviews_ltm</th>\n",
       "    </tr>\n",
       "  </thead>\n",
       "  <tbody>\n",
       "    <tr>\n",
       "      <th>price</th>\n",
       "      <td>16958.117951</td>\n",
       "      <td>-94.182150</td>\n",
       "      <td>-822.580623</td>\n",
       "      <td>-7.021499</td>\n",
       "      <td>147.754858</td>\n",
       "      <td>2659.545009</td>\n",
       "      <td>-127.324190</td>\n",
       "    </tr>\n",
       "    <tr>\n",
       "      <th>minimum_nights</th>\n",
       "      <td>-94.182150</td>\n",
       "      <td>1323.212281</td>\n",
       "      <td>-98.851004</td>\n",
       "      <td>-2.655761</td>\n",
       "      <td>-19.819585</td>\n",
       "      <td>167.355122</td>\n",
       "      <td>-33.046660</td>\n",
       "    </tr>\n",
       "    <tr>\n",
       "      <th>number_of_reviews</th>\n",
       "      <td>-822.580623</td>\n",
       "      <td>-98.851004</td>\n",
       "      <td>4758.206518</td>\n",
       "      <td>56.264518</td>\n",
       "      <td>-48.482923</td>\n",
       "      <td>487.052217</td>\n",
       "      <td>515.382252</td>\n",
       "    </tr>\n",
       "    <tr>\n",
       "      <th>reviews_per_month</th>\n",
       "      <td>-7.021499</td>\n",
       "      <td>-2.655761</td>\n",
       "      <td>56.264518</td>\n",
       "      <td>1.915057</td>\n",
       "      <td>1.237224</td>\n",
       "      <td>23.265470</td>\n",
       "      <td>12.789869</td>\n",
       "    </tr>\n",
       "    <tr>\n",
       "      <th>calculated_host_listings_count</th>\n",
       "      <td>147.754858</td>\n",
       "      <td>-19.819585</td>\n",
       "      <td>-48.482923</td>\n",
       "      <td>1.237224</td>\n",
       "      <td>775.224071</td>\n",
       "      <td>269.044690</td>\n",
       "      <td>21.035612</td>\n",
       "    </tr>\n",
       "    <tr>\n",
       "      <th>availability_365</th>\n",
       "      <td>2659.545009</td>\n",
       "      <td>167.355122</td>\n",
       "      <td>487.052217</td>\n",
       "      <td>23.265470</td>\n",
       "      <td>269.044690</td>\n",
       "      <td>19507.300405</td>\n",
       "      <td>253.847955</td>\n",
       "    </tr>\n",
       "    <tr>\n",
       "      <th>number_of_reviews_ltm</th>\n",
       "      <td>-127.324190</td>\n",
       "      <td>-33.046660</td>\n",
       "      <td>515.382252</td>\n",
       "      <td>12.789869</td>\n",
       "      <td>21.035612</td>\n",
       "      <td>253.847955</td>\n",
       "      <td>178.683118</td>\n",
       "    </tr>\n",
       "  </tbody>\n",
       "</table>\n",
       "</div>"
      ],
      "text/plain": [
       "                                       price  minimum_nights  \\\n",
       "price                           16958.117951      -94.182150   \n",
       "minimum_nights                    -94.182150     1323.212281   \n",
       "number_of_reviews                -822.580623      -98.851004   \n",
       "reviews_per_month                  -7.021499       -2.655761   \n",
       "calculated_host_listings_count    147.754858      -19.819585   \n",
       "availability_365                 2659.545009      167.355122   \n",
       "number_of_reviews_ltm            -127.324190      -33.046660   \n",
       "\n",
       "                                number_of_reviews  reviews_per_month  \\\n",
       "price                                 -822.580623          -7.021499   \n",
       "minimum_nights                         -98.851004          -2.655761   \n",
       "number_of_reviews                     4758.206518          56.264518   \n",
       "reviews_per_month                       56.264518           1.915057   \n",
       "calculated_host_listings_count         -48.482923           1.237224   \n",
       "availability_365                       487.052217          23.265470   \n",
       "number_of_reviews_ltm                  515.382252          12.789869   \n",
       "\n",
       "                                calculated_host_listings_count  \\\n",
       "price                                               147.754858   \n",
       "minimum_nights                                      -19.819585   \n",
       "number_of_reviews                                   -48.482923   \n",
       "reviews_per_month                                     1.237224   \n",
       "calculated_host_listings_count                      775.224071   \n",
       "availability_365                                    269.044690   \n",
       "number_of_reviews_ltm                                21.035612   \n",
       "\n",
       "                                availability_365  number_of_reviews_ltm  \n",
       "price                                2659.545009            -127.324190  \n",
       "minimum_nights                        167.355122             -33.046660  \n",
       "number_of_reviews                     487.052217             515.382252  \n",
       "reviews_per_month                      23.265470              12.789869  \n",
       "calculated_host_listings_count        269.044690              21.035612  \n",
       "availability_365                    19507.300405             253.847955  \n",
       "number_of_reviews_ltm                 253.847955             178.683118  "
      ]
     },
     "execution_count": 6,
     "metadata": {},
     "output_type": "execute_result"
    }
   ],
   "source": [
    "cov = df.cov()\n",
    "cov"
   ]
  },
  {
   "cell_type": "markdown",
   "metadata": {},
   "source": [
    "<font color ='skyblue'> Observamos que tenemos variables con covarianza positiva y negativa. En el caso `price` y `availability_365` vemos una covarianza positiva, lo que indica que ambas variables varían en la misma dirección. En el caso `price` y `minimum_nights` tienen covarianza negativa, lo que indica que mientras una disminuye la otra aumenta.\n",
    "En la situación de las cols `calculated_host_listings_count` y ` reviews_per_month ` tenemos una covarianza muy cercana a 0, 1.23. En este caso el valor nos indica que no podemos afirmar en qué sentido varían una y otra variable."
   ]
  },
  {
   "cell_type": "code",
   "execution_count": 9,
   "metadata": {},
   "outputs": [
    {
     "data": {
      "text/html": [
       "<div>\n",
       "<style scoped>\n",
       "    .dataframe tbody tr th:only-of-type {\n",
       "        vertical-align: middle;\n",
       "    }\n",
       "\n",
       "    .dataframe tbody tr th {\n",
       "        vertical-align: top;\n",
       "    }\n",
       "\n",
       "    .dataframe thead th {\n",
       "        text-align: right;\n",
       "    }\n",
       "</style>\n",
       "<table border=\"1\" class=\"dataframe\">\n",
       "  <thead>\n",
       "    <tr style=\"text-align: right;\">\n",
       "      <th></th>\n",
       "      <th>price</th>\n",
       "      <th>minimum_nights</th>\n",
       "      <th>number_of_reviews</th>\n",
       "      <th>reviews_per_month</th>\n",
       "      <th>calculated_host_listings_count</th>\n",
       "      <th>availability_365</th>\n",
       "      <th>number_of_reviews_ltm</th>\n",
       "    </tr>\n",
       "  </thead>\n",
       "  <tbody>\n",
       "    <tr>\n",
       "      <th>price</th>\n",
       "      <td>1.000000</td>\n",
       "      <td>-0.019882</td>\n",
       "      <td>-0.091573</td>\n",
       "      <td>-0.038963</td>\n",
       "      <td>0.040751</td>\n",
       "      <td>0.146224</td>\n",
       "      <td>-0.073144</td>\n",
       "    </tr>\n",
       "    <tr>\n",
       "      <th>minimum_nights</th>\n",
       "      <td>-0.019882</td>\n",
       "      <td>1.000000</td>\n",
       "      <td>-0.039395</td>\n",
       "      <td>-0.052757</td>\n",
       "      <td>-0.019569</td>\n",
       "      <td>0.032940</td>\n",
       "      <td>-0.067963</td>\n",
       "    </tr>\n",
       "    <tr>\n",
       "      <th>number_of_reviews</th>\n",
       "      <td>-0.091573</td>\n",
       "      <td>-0.039395</td>\n",
       "      <td>1.000000</td>\n",
       "      <td>0.589416</td>\n",
       "      <td>-0.025244</td>\n",
       "      <td>0.050554</td>\n",
       "      <td>0.558941</td>\n",
       "    </tr>\n",
       "    <tr>\n",
       "      <th>reviews_per_month</th>\n",
       "      <td>-0.038963</td>\n",
       "      <td>-0.052757</td>\n",
       "      <td>0.589416</td>\n",
       "      <td>1.000000</td>\n",
       "      <td>0.032110</td>\n",
       "      <td>0.120371</td>\n",
       "      <td>0.691407</td>\n",
       "    </tr>\n",
       "    <tr>\n",
       "      <th>calculated_host_listings_count</th>\n",
       "      <td>0.040751</td>\n",
       "      <td>-0.019569</td>\n",
       "      <td>-0.025244</td>\n",
       "      <td>0.032110</td>\n",
       "      <td>1.000000</td>\n",
       "      <td>0.069185</td>\n",
       "      <td>0.056520</td>\n",
       "    </tr>\n",
       "    <tr>\n",
       "      <th>availability_365</th>\n",
       "      <td>0.146224</td>\n",
       "      <td>0.032940</td>\n",
       "      <td>0.050554</td>\n",
       "      <td>0.120371</td>\n",
       "      <td>0.069185</td>\n",
       "      <td>1.000000</td>\n",
       "      <td>0.135967</td>\n",
       "    </tr>\n",
       "    <tr>\n",
       "      <th>number_of_reviews_ltm</th>\n",
       "      <td>-0.073144</td>\n",
       "      <td>-0.067963</td>\n",
       "      <td>0.558941</td>\n",
       "      <td>0.691407</td>\n",
       "      <td>0.056520</td>\n",
       "      <td>0.135967</td>\n",
       "      <td>1.000000</td>\n",
       "    </tr>\n",
       "  </tbody>\n",
       "</table>\n",
       "</div>"
      ],
      "text/plain": [
       "                                   price  minimum_nights  number_of_reviews  \\\n",
       "price                           1.000000       -0.019882          -0.091573   \n",
       "minimum_nights                 -0.019882        1.000000          -0.039395   \n",
       "number_of_reviews              -0.091573       -0.039395           1.000000   \n",
       "reviews_per_month              -0.038963       -0.052757           0.589416   \n",
       "calculated_host_listings_count  0.040751       -0.019569          -0.025244   \n",
       "availability_365                0.146224        0.032940           0.050554   \n",
       "number_of_reviews_ltm          -0.073144       -0.067963           0.558941   \n",
       "\n",
       "                                reviews_per_month  \\\n",
       "price                                   -0.038963   \n",
       "minimum_nights                          -0.052757   \n",
       "number_of_reviews                        0.589416   \n",
       "reviews_per_month                        1.000000   \n",
       "calculated_host_listings_count           0.032110   \n",
       "availability_365                         0.120371   \n",
       "number_of_reviews_ltm                    0.691407   \n",
       "\n",
       "                                calculated_host_listings_count  \\\n",
       "price                                                 0.040751   \n",
       "minimum_nights                                       -0.019569   \n",
       "number_of_reviews                                    -0.025244   \n",
       "reviews_per_month                                     0.032110   \n",
       "calculated_host_listings_count                        1.000000   \n",
       "availability_365                                      0.069185   \n",
       "number_of_reviews_ltm                                 0.056520   \n",
       "\n",
       "                                availability_365  number_of_reviews_ltm  \n",
       "price                                   0.146224              -0.073144  \n",
       "minimum_nights                          0.032940              -0.067963  \n",
       "number_of_reviews                       0.050554               0.558941  \n",
       "reviews_per_month                       0.120371               0.691407  \n",
       "calculated_host_listings_count          0.069185               0.056520  \n",
       "availability_365                        1.000000               0.135967  \n",
       "number_of_reviews_ltm                   0.135967               1.000000  "
      ]
     },
     "execution_count": 9,
     "metadata": {},
     "output_type": "execute_result"
    }
   ],
   "source": [
    "cor_pearson = df.corr(method = 'pearson')\n",
    "cor_pearson"
   ]
  },
  {
   "cell_type": "markdown",
   "metadata": {},
   "source": [
    "<font color ='skyblue'> Según la tabla de arriba, podemos afirmar que las columnas `calculated_host_listings_count` y `price` tiene una correlación muy cercana a 0 entonces la correlación que tienen es muy débil. La correlación en el caso de  `reviews_per_month` y\t`number_of_reviews_ltm` es muy alta, de 0.69, lo que indica que mientras una aumenta la otra aumenta también. \n",
    "En nuestro dataset no hemos encontrado correlaciones negativas fuertes, que indicarían que mientras una variable disminuye la otra disminuye también.\n",
    "Conclusión: en el mercado inmobiliario NUNCA baja nada, no está hecho para todos los bolsillos 🥵​\n"
   ]
  },
  {
   "cell_type": "markdown",
   "metadata": {},
   "source": [
    "Ejercicio 3. Crea un heatmap"
   ]
  },
  {
   "cell_type": "code",
   "execution_count": 10,
   "metadata": {},
   "outputs": [
    {
     "data": {
      "image/png": "[encoded data removed]",
      "text/plain": [
       "<Figure size 432x288 with 2 Axes>"
      ]
     },
     "metadata": {
      "needs_background": "light"
     },
     "output_type": "display_data"
    }
   ],
   "source": [
    "sns.heatmap(df.corr(), cmap = \"YlGnBu\", annot = True);\n"
   ]
  },
  {
   "cell_type": "code",
   "execution_count": 17,
   "metadata": {},
   "outputs": [
    {
     "name": "stderr",
     "output_type": "stream",
     "text": [
      "/tmp/ipykernel_863/1839409988.py:1: DeprecationWarning: `np.bool` is a deprecated alias for the builtin `bool`. To silence this warning, use `bool` by itself. Doing this will not modify any behavior and is safe. If you specifically wanted the numpy scalar type, use `np.bool_` here.\n",
      "Deprecated in NumPy 1.20; for more details and guidance: https://numpy.org/devdocs/release/1.20.0-notes.html#deprecations\n",
      "  mask = np.triu(np.ones_like(df.corr(), dtype=np.bool));\n"
     ]
    },
    {
     "data": {
      "text/plain": [
       "array([[ True,  True,  True,  True,  True,  True,  True],\n",
       "       [False,  True,  True,  True,  True,  True,  True],\n",
       "       [False, False,  True,  True,  True,  True,  True],\n",
       "       [False, False, False,  True,  True,  True,  True],\n",
       "       [False, False, False, False,  True,  True,  True],\n",
       "       [False, False, False, False, False,  True,  True],\n",
       "       [False, False, False, False, False, False,  True]])"
      ]
     },
     "execution_count": 17,
     "metadata": {},
     "output_type": "execute_result"
    }
   ],
   "source": [
    "mask = np.triu(np.ones_like(df.corr(), dtype=np.bool));\n",
    "mask"
   ]
  },
  {
   "cell_type": "code",
   "execution_count": 15,
   "metadata": {},
   "outputs": [
    {
     "data": {
      "image/png": "[encoded data removed]",
      "text/plain": [
       "<Figure size 432x288 with 2 Axes>"
      ]
     },
     "metadata": {
      "needs_background": "light"
     },
     "output_type": "display_data"
    }
   ],
   "source": [
    "sns.heatmap(df.corr(), cmap = \"YlGnBu\", mask = mask, annot = True);"
   ]
  },
  {
   "cell_type": "markdown",
   "metadata": {},
   "source": [
    "<font color ='skyblue'> Aplicamos una máscara para eliminar los valores simétricos y que no sea redundante."
   ]
  },
  {
   "cell_type": "markdown",
   "metadata": {},
   "source": [
    "Ejercicio 4. Guarda la gráfica."
   ]
  },
  {
   "cell_type": "code",
   "execution_count": 12,
   "metadata": {},
   "outputs": [
    {
     "data": {
      "text/plain": [
       "<Figure size 432x288 with 0 Axes>"
      ]
     },
     "metadata": {},
     "output_type": "display_data"
    }
   ],
   "source": [
    "plt.savefig(\"Correlaciones Pearson.jpg\", bbox_inches='tight')"
   ]
  }
 ],
 "metadata": {
  "interpreter": {
   "hash": "a2a25da4702e7ca1aacc8a7d4e81059851e19fd1060402175b35fae4c2a518e8"
  },
  "kernelspec": {
   "display_name": "Python 3.9.7 ('base')",
   "language": "python",
   "name": "python3"
  },
  "language_info": {
   "codemirror_mode": {
    "name": "ipython",
    "version": 3
   },
   "file_extension": ".py",
   "mimetype": "text/x-python",
   "name": "python",
   "nbconvert_exporter": "python",
   "pygments_lexer": "ipython3",
   "version": "3.9.7"
  },
  "orig_nbformat": 4
 },
 "nbformat": 4,
 "nbformat_minor": 2
}
